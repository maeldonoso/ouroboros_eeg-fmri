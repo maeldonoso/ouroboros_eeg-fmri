{
 "cells": [
  {
   "cell_type": "markdown",
   "metadata": {},
   "source": [
    "# **Ouroboros EEG-fMRI: Predicting EEG activity from fMRI activity and vice versa**\n",
    "\n",
    "#### Version: 22nd August 2022\n",
    "\n",
    "==============================================================================================\n",
    "\n",
    "Project developed by Maël Donoso, Ph.D. in Cognitive and Computational Neuroscience. Affiliations: Ouroboros Neurotechnologies (https://ouroboros-neurotechnologies.com/), Institut Lémanique du Cerveau (https://institut-cerveau.ch/), Policlinique Ostéopathique de Lausanne (https://policlinique-osteopathique-lausanne.ch/). "
   ]
  },
  {
   "cell_type": "markdown",
   "metadata": {},
   "source": [
    "==============================================================================================\n",
    "\n",
    "This project is presented through five Notebooks:\n",
    "\n",
    "*01: Data Analysis*\n",
    "\n",
    "***02: Classification***\n",
    "\n",
    "*03: Regression on fMRI data*\n",
    "\n",
    "*04: Regression on EEG data*\n",
    "\n",
    "*05: Results*\n",
    "\n",
    "=============================================================================================="
   ]
  },
  {
   "cell_type": "markdown",
   "metadata": {},
   "source": [
    "### Notebook 02\n",
    "\n",
    "# **Classification**"
   ]
  },
  {
   "cell_type": "markdown",
   "metadata": {},
   "source": [
    "## **1. Introduction to Classification**\n",
    "\n",
    "### 1.1 Objective\n",
    "\n",
    "The objective of this project is to address the general question: **Can we train machine learning models to predict EEG activity from fMRI activity, and vice versa?** In this Notebook, as a preliminary step, we will evaluate whether our EEG and fMRI datasets can be used to predict another type of information, the hypnogram. \n",
    "\n",
    "A hypnogram is a graph representing the succession of the stages of sleep. These stages include the **REM (Rapid Eye Movement) sleep**, and three stages of **NREM (Non Rapid Eye Movement) sleep**, defined as NREM 1, 2, 3. The article indicates that the hypnogram was established for each subject by two expert sleep scorers, according to AASM criteria. We can expect to see a strong link between our EEG dataset and the hypnogram data, since the EEG data was most probably used to define the stages of sleep (see for example: https://jcsm.aasm.org/doi/10.5664/jcsm.3880). More generally, the stages of wakefulness and sleep have a strong impact on the brain activity, and we should be able to train machine learning models to classify these stages using both EEG and fMRI data as predictors. Therefore, this Notebook will serve as a first step to evaluate the accuracy of the information that we can extract from EEG and fMRI data. \n",
    "\n",
    "### 1.2 Models\n",
    "\n",
    "We will use a variety of classification models: **k-NN**, **decision tree**, **random forest**, **SVM**, **logistic regression**. For all subjects, we will fine-tune the hyperparameters of these models using a grid search with cross-validation approach, and store the test score as well as the value of the best hyperparameter found. For the fMRI data, we will use the preprocessed dataset obtained after a voxel size rescaling by a factor 3, in order to avoid heavy computations. The baseline will be a model that always predicts the most frequent value from the train set. \n",
    "\n",
    "### 1.3 Data import\n",
    "\n",
    "Here we import the **EEG dataset** and the **preprocessed fMRI dataset**. For the latter, we store the data in dictionaries. "
   ]
  },
  {
   "cell_type": "code",
   "execution_count": 1,
   "metadata": {},
   "outputs": [],
   "source": [
    "import os\n",
    "import pickle\n",
    "import numpy as np\n",
    "import pandas as pd\n",
    "import matplotlib.pyplot as plt\n",
    "%matplotlib inline"
   ]
  },
  {
   "cell_type": "code",
   "execution_count": 2,
   "metadata": {},
   "outputs": [],
   "source": [
    "# Define the preprocessed data path. \n",
    "preprocessed_data_path = '../ouroboros_eeg-fmri_preprocessed_data/'\n",
    "\n",
    "# Define the results path. If empty, the results will be saved in the current directory. \n",
    "results_path = ''"
   ]
  },
  {
   "cell_type": "code",
   "execution_count": 3,
   "metadata": {},
   "outputs": [
    {
     "name": "stdout",
     "output_type": "stream",
     "text": [
      "['sub-01', 'sub-02', 'sub-03', 'sub-04', 'sub-05', 'sub-06', 'sub-07', 'sub-08', 'sub-09', 'sub-10', 'sub-11', 'sub-12', 'sub-13', 'sub-14', 'sub-15', 'sub-16', 'sub-17', 'sub-18']\n"
     ]
    }
   ],
   "source": [
    "# Define the list of subjects. \n",
    "subjects = []\n",
    "\n",
    "for subject_index in range(18):\n",
    "    if subject_index < 9:\n",
    "        subjects.append('sub-0' + str(subject_index + 1))\n",
    "    else:\n",
    "        subjects.append('sub-' + str(subject_index + 1))\n",
    "\n",
    "print(subjects)"
   ]
  },
  {
   "cell_type": "code",
   "execution_count": 4,
   "metadata": {},
   "outputs": [],
   "source": [
    "# Load the EEG data. \n",
    "with open(preprocessed_data_path + 'predictors_EEG.p', 'rb') as file:\n",
    "    predictors_EEG = pickle.load(file)"
   ]
  },
  {
   "cell_type": "code",
   "execution_count": 5,
   "metadata": {},
   "outputs": [
    {
     "name": "stdout",
     "output_type": "stream",
     "text": [
      "Starting subject 1 / 18\n",
      "Starting subject 2 / 18\n",
      "Starting subject 3 / 18\n",
      "Starting subject 4 / 18\n",
      "Starting subject 5 / 18\n",
      "Starting subject 6 / 18\n",
      "Starting subject 7 / 18\n",
      "Starting subject 8 / 18\n",
      "Starting subject 9 / 18\n",
      "Starting subject 10 / 18\n",
      "Starting subject 11 / 18\n",
      "Starting subject 12 / 18\n",
      "Starting subject 13 / 18\n",
      "Starting subject 14 / 18\n",
      "Starting subject 15 / 18\n",
      "Starting subject 16 / 18\n",
      "Starting subject 17 / 18\n",
      "Starting subject 18 / 18\n"
     ]
    }
   ],
   "source": [
    "# Load the fMRI data, and store the data in dictionaries. \n",
    "predictors_fMRI = dict()\n",
    "predictors_fMRI_r2 = dict()\n",
    "predictors_fMRI_r3 = dict()\n",
    "\n",
    "# Iterate through all subjects. \n",
    "counter = 1\n",
    "for subject_index in subjects:\n",
    "    \n",
    "    # Display current step. \n",
    "    print('Starting subject ' + str(counter) + ' / ' + str(len(subjects)))\n",
    "    \n",
    "    # Load fMRI data with the original voxel size. \n",
    "    with np.load(preprocessed_data_path + 'predictors_fMRI.npz', allow_pickle = False) as npz_file:\n",
    "        predictors_fMRI[subject_index] = npz_file['sub_' + str(counter)]\n",
    "    \n",
    "    # Load fMRI data with the voxel size rescaling by a factor 2. \n",
    "    with np.load(preprocessed_data_path + 'predictors_fMRI_r2.npz', allow_pickle = False) as npz_file:\n",
    "        predictors_fMRI_r2[subject_index] = npz_file['sub_' + str(counter)]\n",
    "        \n",
    "    # Load fMRI data with the voxel size rescaling by a factor 3. \n",
    "    with np.load(preprocessed_data_path + 'predictors_fMRI_r3.npz', allow_pickle = False) as npz_file:\n",
    "        predictors_fMRI_r3[subject_index] = npz_file['sub_' + str(counter)]\n",
    "        \n",
    "    # Increment. \n",
    "    counter += 1"
   ]
  },
  {
   "cell_type": "code",
   "execution_count": 6,
   "metadata": {},
   "outputs": [],
   "source": [
    "# Determine the proportion of the test set for the classification models. \n",
    "test_set_proportion = 0.2"
   ]
  },
  {
   "cell_type": "markdown",
   "metadata": {},
   "source": [
    "## **2. Hypnogram prediction based on EEG data**\n",
    "\n",
    "### **2.1 K-Nearest Neighbors (k-NN)**\n",
    "\n",
    "In the following cells, we **fine-tune, fit and compute predictions from a k-NN model**. "
   ]
  },
  {
   "cell_type": "code",
   "execution_count": 7,
   "metadata": {},
   "outputs": [],
   "source": [
    "from sklearn.pipeline import Pipeline\n",
    "from sklearn.preprocessing import StandardScaler\n",
    "from sklearn.model_selection import GridSearchCV\n",
    "from sklearn.neighbors import KNeighborsClassifier\n",
    "from sklearn.model_selection import train_test_split"
   ]
  },
  {
   "cell_type": "code",
   "execution_count": 8,
   "metadata": {},
   "outputs": [
    {
     "data": {
      "text/plain": [
       "array([1, 2, 3, 4, 5, 6, 7, 8, 9])"
      ]
     },
     "execution_count": 8,
     "metadata": {},
     "output_type": "execute_result"
    }
   ],
   "source": [
    "# Define the set of values to explore, where k is the number of neighbors. \n",
    "k_values = np.arange(1, 10, 1)\n",
    "k_values"
   ]
  },
  {
   "cell_type": "code",
   "execution_count": 9,
   "metadata": {},
   "outputs": [],
   "source": [
    "# Create pipeline. \n",
    "pipe_knn = Pipeline([\n",
    "    ('scaler', StandardScaler()),\n",
    "    ('knn', KNeighborsClassifier())\n",
    "])\n",
    "\n",
    "# Create cross-validation object. \n",
    "grid_knn = {\n",
    "    'knn__n_neighbors': k_values\n",
    "}\n",
    "grid_cv_knn = GridSearchCV(pipe_knn, grid_knn, cv = 5, return_train_score = True, verbose = 0, n_jobs = -1)"
   ]
  },
  {
   "cell_type": "code",
   "execution_count": 10,
   "metadata": {},
   "outputs": [],
   "source": [
    "# Define a function to run a classification model, taking the EEG frequency bands as features and the hypnogram as target. \n",
    "def classification_with_EEG_predictors(grid_cv, param_name):\n",
    "    \n",
    "    # Create a Pandas DataFrame to store the results. \n",
    "    model_results = pd.DataFrame()\n",
    "\n",
    "    # Iterate through all subjects. \n",
    "    for subject_index in subjects:\n",
    "\n",
    "        # Display current step. \n",
    "        print('Starting subject ' + subject_index)\n",
    "\n",
    "        # Retrieve the predictors, taking the EEG frequency bands as features and the hypnogram as target. \n",
    "        X = predictors_EEG[subject_index].iloc[:, 2:].values\n",
    "        y = predictors_EEG[subject_index].iloc[:, 1].values\n",
    "\n",
    "        # Divide the data into a train set and a test set. \n",
    "        X_tr, X_te, y_tr, y_te = train_test_split(X, y, test_size = test_set_proportion)\n",
    "\n",
    "        # Create a baseline containing only the most frequent value in the train set. \n",
    "        most_frequent_value = np.bincount(y_tr.astype(int)).argmax()\n",
    "        classification_baseline = np.sum(y_te.astype(int) == most_frequent_value) / y_te.shape[0]\n",
    "\n",
    "        # Fit the model. \n",
    "        grid_cv.fit(X_tr, y_tr)\n",
    "\n",
    "        # Compute the test score. \n",
    "        test_score = grid_cv.score(X_te, y_te)\n",
    "\n",
    "        # Store the results in the DataFrame. \n",
    "        model_results.loc[subject_index, param_name] = grid_cv.best_params_[param_name]\n",
    "        model_results.loc[subject_index, 'test score'] = test_score\n",
    "        model_results.loc[subject_index, 'baseline'] = classification_baseline\n",
    "        \n",
    "    return model_results"
   ]
  },
  {
   "cell_type": "code",
   "execution_count": 11,
   "metadata": {},
   "outputs": [
    {
     "name": "stdout",
     "output_type": "stream",
     "text": [
      "Starting subject sub-01\n",
      "Starting subject sub-02\n",
      "Starting subject sub-03\n",
      "Starting subject sub-04\n",
      "Starting subject sub-05\n",
      "Starting subject sub-06\n",
      "Starting subject sub-07\n",
      "Starting subject sub-08\n",
      "Starting subject sub-09\n",
      "Starting subject sub-10\n",
      "Starting subject sub-11\n",
      "Starting subject sub-12\n",
      "Starting subject sub-13\n",
      "Starting subject sub-14\n",
      "Starting subject sub-15\n",
      "Starting subject sub-16\n",
      "Starting subject sub-17\n",
      "Starting subject sub-18\n"
     ]
    }
   ],
   "source": [
    "# Run the model. \n",
    "knn_results = classification_with_EEG_predictors(grid_cv_knn, 'knn__n_neighbors')"
   ]
  },
  {
   "cell_type": "code",
   "execution_count": 12,
   "metadata": {},
   "outputs": [
    {
     "data": {
      "text/html": [
       "<div>\n",
       "<style scoped>\n",
       "    .dataframe tbody tr th:only-of-type {\n",
       "        vertical-align: middle;\n",
       "    }\n",
       "\n",
       "    .dataframe tbody tr th {\n",
       "        vertical-align: top;\n",
       "    }\n",
       "\n",
       "    .dataframe thead th {\n",
       "        text-align: right;\n",
       "    }\n",
       "</style>\n",
       "<table border=\"1\" class=\"dataframe\">\n",
       "  <thead>\n",
       "    <tr style=\"text-align: right;\">\n",
       "      <th></th>\n",
       "      <th>knn__n_neighbors</th>\n",
       "      <th>test score</th>\n",
       "      <th>baseline</th>\n",
       "    </tr>\n",
       "  </thead>\n",
       "  <tbody>\n",
       "    <tr>\n",
       "      <th>sub-01</th>\n",
       "      <td>1.0</td>\n",
       "      <td>0.939815</td>\n",
       "      <td>0.473765</td>\n",
       "    </tr>\n",
       "    <tr>\n",
       "      <th>sub-02</th>\n",
       "      <td>1.0</td>\n",
       "      <td>0.980360</td>\n",
       "      <td>0.535188</td>\n",
       "    </tr>\n",
       "    <tr>\n",
       "      <th>sub-03</th>\n",
       "      <td>1.0</td>\n",
       "      <td>0.923077</td>\n",
       "      <td>0.313462</td>\n",
       "    </tr>\n",
       "    <tr>\n",
       "      <th>sub-04</th>\n",
       "      <td>1.0</td>\n",
       "      <td>0.927660</td>\n",
       "      <td>0.436170</td>\n",
       "    </tr>\n",
       "    <tr>\n",
       "      <th>sub-05</th>\n",
       "      <td>1.0</td>\n",
       "      <td>0.931755</td>\n",
       "      <td>0.583565</td>\n",
       "    </tr>\n",
       "    <tr>\n",
       "      <th>sub-06</th>\n",
       "      <td>1.0</td>\n",
       "      <td>0.915563</td>\n",
       "      <td>0.445364</td>\n",
       "    </tr>\n",
       "    <tr>\n",
       "      <th>sub-07</th>\n",
       "      <td>1.0</td>\n",
       "      <td>0.935484</td>\n",
       "      <td>0.607211</td>\n",
       "    </tr>\n",
       "    <tr>\n",
       "      <th>sub-08</th>\n",
       "      <td>1.0</td>\n",
       "      <td>0.910494</td>\n",
       "      <td>0.456790</td>\n",
       "    </tr>\n",
       "    <tr>\n",
       "      <th>sub-09</th>\n",
       "      <td>1.0</td>\n",
       "      <td>0.932790</td>\n",
       "      <td>0.464358</td>\n",
       "    </tr>\n",
       "    <tr>\n",
       "      <th>sub-10</th>\n",
       "      <td>1.0</td>\n",
       "      <td>0.934358</td>\n",
       "      <td>0.409218</td>\n",
       "    </tr>\n",
       "    <tr>\n",
       "      <th>sub-11</th>\n",
       "      <td>1.0</td>\n",
       "      <td>0.972281</td>\n",
       "      <td>0.383795</td>\n",
       "    </tr>\n",
       "    <tr>\n",
       "      <th>sub-12</th>\n",
       "      <td>1.0</td>\n",
       "      <td>0.938815</td>\n",
       "      <td>0.581262</td>\n",
       "    </tr>\n",
       "    <tr>\n",
       "      <th>sub-13</th>\n",
       "      <td>1.0</td>\n",
       "      <td>0.895122</td>\n",
       "      <td>0.617073</td>\n",
       "    </tr>\n",
       "    <tr>\n",
       "      <th>sub-14</th>\n",
       "      <td>1.0</td>\n",
       "      <td>0.980738</td>\n",
       "      <td>0.457464</td>\n",
       "    </tr>\n",
       "    <tr>\n",
       "      <th>sub-15</th>\n",
       "      <td>1.0</td>\n",
       "      <td>0.843849</td>\n",
       "      <td>0.473186</td>\n",
       "    </tr>\n",
       "    <tr>\n",
       "      <th>sub-16</th>\n",
       "      <td>1.0</td>\n",
       "      <td>0.883249</td>\n",
       "      <td>0.512690</td>\n",
       "    </tr>\n",
       "    <tr>\n",
       "      <th>sub-17</th>\n",
       "      <td>1.0</td>\n",
       "      <td>0.910959</td>\n",
       "      <td>0.743151</td>\n",
       "    </tr>\n",
       "    <tr>\n",
       "      <th>sub-18</th>\n",
       "      <td>1.0</td>\n",
       "      <td>0.905429</td>\n",
       "      <td>0.719790</td>\n",
       "    </tr>\n",
       "  </tbody>\n",
       "</table>\n",
       "</div>"
      ],
      "text/plain": [
       "        knn__n_neighbors  test score  baseline\n",
       "sub-01               1.0    0.939815  0.473765\n",
       "sub-02               1.0    0.980360  0.535188\n",
       "sub-03               1.0    0.923077  0.313462\n",
       "sub-04               1.0    0.927660  0.436170\n",
       "sub-05               1.0    0.931755  0.583565\n",
       "sub-06               1.0    0.915563  0.445364\n",
       "sub-07               1.0    0.935484  0.607211\n",
       "sub-08               1.0    0.910494  0.456790\n",
       "sub-09               1.0    0.932790  0.464358\n",
       "sub-10               1.0    0.934358  0.409218\n",
       "sub-11               1.0    0.972281  0.383795\n",
       "sub-12               1.0    0.938815  0.581262\n",
       "sub-13               1.0    0.895122  0.617073\n",
       "sub-14               1.0    0.980738  0.457464\n",
       "sub-15               1.0    0.843849  0.473186\n",
       "sub-16               1.0    0.883249  0.512690\n",
       "sub-17               1.0    0.910959  0.743151\n",
       "sub-18               1.0    0.905429  0.719790"
      ]
     },
     "execution_count": 12,
     "metadata": {},
     "output_type": "execute_result"
    }
   ],
   "source": [
    "# Display the results. \n",
    "knn_results"
   ]
  },
  {
   "cell_type": "code",
   "execution_count": 13,
   "metadata": {},
   "outputs": [
    {
     "data": {
      "image/png": "[encoded data removed]",
      "text/plain": [
       "<Figure size 1008x432 with 1 Axes>"
      ]
     },
     "metadata": {
      "needs_background": "light"
     },
     "output_type": "display_data"
    }
   ],
   "source": [
    "# Plot the results. \n",
    "plt.figure(figsize = ((14, 6)))\n",
    "plt.plot(knn_results[['test score']], label = 'test score')\n",
    "plt.plot(knn_results[['baseline']], label = 'baseline')\n",
    "plt.legend();"
   ]
  },
  {
   "cell_type": "markdown",
   "metadata": {},
   "source": [
    "**Result:** Overall, the k-NN model using the EEG data as predictors performs better than the baseline for our group of subjects. "
   ]
  },
  {
   "cell_type": "markdown",
   "metadata": {},
   "source": [
    "### **2.2 Decision tree**\n",
    "\n",
    "In the following cells, we **fine-tune, fit and compute predictions from a decision tree model**. "
   ]
  },
  {
   "cell_type": "code",
   "execution_count": 14,
   "metadata": {},
   "outputs": [],
   "source": [
    "from sklearn.tree import DecisionTreeClassifier"
   ]
  },
  {
   "cell_type": "code",
   "execution_count": 15,
   "metadata": {},
   "outputs": [
    {
     "data": {
      "text/plain": [
       "array([1, 2, 3, 4, 5, 6, 7, 8, 9])"
      ]
     },
     "execution_count": 15,
     "metadata": {},
     "output_type": "execute_result"
    }
   ],
   "source": [
    "# Define the set of values to explore, where d is the depth of the tree. \n",
    "d_values = np.arange(1, 10, 1)\n",
    "d_values"
   ]
  },
  {
   "cell_type": "code",
   "execution_count": 16,
   "metadata": {},
   "outputs": [],
   "source": [
    "# Create pipeline. \n",
    "pipe_dt = Pipeline([\n",
    "    ('scaler', None),\n",
    "    ('dt', DecisionTreeClassifier(criterion = 'gini'))\n",
    "])\n",
    "\n",
    "# Create cross-validation object. \n",
    "grid_dt = {\n",
    "    'dt__max_depth': d_values\n",
    "}\n",
    "grid_cv_dt = GridSearchCV(pipe_dt, grid_dt, cv = 5, return_train_score = True, verbose = 0, n_jobs = -1)"
   ]
  },
  {
   "cell_type": "code",
   "execution_count": 17,
   "metadata": {},
   "outputs": [
    {
     "name": "stdout",
     "output_type": "stream",
     "text": [
      "Starting subject sub-01\n",
      "Starting subject sub-02\n",
      "Starting subject sub-03\n",
      "Starting subject sub-04\n",
      "Starting subject sub-05\n",
      "Starting subject sub-06\n",
      "Starting subject sub-07\n",
      "Starting subject sub-08\n",
      "Starting subject sub-09\n",
      "Starting subject sub-10\n",
      "Starting subject sub-11\n",
      "Starting subject sub-12\n",
      "Starting subject sub-13\n",
      "Starting subject sub-14\n",
      "Starting subject sub-15\n",
      "Starting subject sub-16\n",
      "Starting subject sub-17\n",
      "Starting subject sub-18\n"
     ]
    }
   ],
   "source": [
    "# Run the model. \n",
    "dt_results = classification_with_EEG_predictors(grid_cv_dt, 'dt__max_depth')"
   ]
  },
  {
   "cell_type": "code",
   "execution_count": 18,
   "metadata": {},
   "outputs": [
    {
     "data": {
      "text/html": [
       "<div>\n",
       "<style scoped>\n",
       "    .dataframe tbody tr th:only-of-type {\n",
       "        vertical-align: middle;\n",
       "    }\n",
       "\n",
       "    .dataframe tbody tr th {\n",
       "        vertical-align: top;\n",
       "    }\n",
       "\n",
       "    .dataframe thead th {\n",
       "        text-align: right;\n",
       "    }\n",
       "</style>\n",
       "<table border=\"1\" class=\"dataframe\">\n",
       "  <thead>\n",
       "    <tr style=\"text-align: right;\">\n",
       "      <th></th>\n",
       "      <th>dt__max_depth</th>\n",
       "      <th>test score</th>\n",
       "      <th>baseline</th>\n",
       "    </tr>\n",
       "  </thead>\n",
       "  <tbody>\n",
       "    <tr>\n",
       "      <th>sub-01</th>\n",
       "      <td>9.0</td>\n",
       "      <td>0.810185</td>\n",
       "      <td>0.481481</td>\n",
       "    </tr>\n",
       "    <tr>\n",
       "      <th>sub-02</th>\n",
       "      <td>9.0</td>\n",
       "      <td>0.890344</td>\n",
       "      <td>0.545008</td>\n",
       "    </tr>\n",
       "    <tr>\n",
       "      <th>sub-03</th>\n",
       "      <td>9.0</td>\n",
       "      <td>0.775000</td>\n",
       "      <td>0.328846</td>\n",
       "    </tr>\n",
       "    <tr>\n",
       "      <th>sub-04</th>\n",
       "      <td>9.0</td>\n",
       "      <td>0.776596</td>\n",
       "      <td>0.419149</td>\n",
       "    </tr>\n",
       "    <tr>\n",
       "      <th>sub-05</th>\n",
       "      <td>8.0</td>\n",
       "      <td>0.853760</td>\n",
       "      <td>0.607242</td>\n",
       "    </tr>\n",
       "    <tr>\n",
       "      <th>sub-06</th>\n",
       "      <td>9.0</td>\n",
       "      <td>0.832781</td>\n",
       "      <td>0.473510</td>\n",
       "    </tr>\n",
       "    <tr>\n",
       "      <th>sub-07</th>\n",
       "      <td>9.0</td>\n",
       "      <td>0.810247</td>\n",
       "      <td>0.584440</td>\n",
       "    </tr>\n",
       "    <tr>\n",
       "      <th>sub-08</th>\n",
       "      <td>9.0</td>\n",
       "      <td>0.790123</td>\n",
       "      <td>0.438272</td>\n",
       "    </tr>\n",
       "    <tr>\n",
       "      <th>sub-09</th>\n",
       "      <td>8.0</td>\n",
       "      <td>0.841141</td>\n",
       "      <td>0.443992</td>\n",
       "    </tr>\n",
       "    <tr>\n",
       "      <th>sub-10</th>\n",
       "      <td>9.0</td>\n",
       "      <td>0.833799</td>\n",
       "      <td>0.403631</td>\n",
       "    </tr>\n",
       "    <tr>\n",
       "      <th>sub-11</th>\n",
       "      <td>9.0</td>\n",
       "      <td>0.891258</td>\n",
       "      <td>0.407249</td>\n",
       "    </tr>\n",
       "    <tr>\n",
       "      <th>sub-12</th>\n",
       "      <td>9.0</td>\n",
       "      <td>0.856597</td>\n",
       "      <td>0.606119</td>\n",
       "    </tr>\n",
       "    <tr>\n",
       "      <th>sub-13</th>\n",
       "      <td>8.0</td>\n",
       "      <td>0.746341</td>\n",
       "      <td>0.631707</td>\n",
       "    </tr>\n",
       "    <tr>\n",
       "      <th>sub-14</th>\n",
       "      <td>9.0</td>\n",
       "      <td>0.886035</td>\n",
       "      <td>0.452648</td>\n",
       "    </tr>\n",
       "    <tr>\n",
       "      <th>sub-15</th>\n",
       "      <td>9.0</td>\n",
       "      <td>0.659306</td>\n",
       "      <td>0.427445</td>\n",
       "    </tr>\n",
       "    <tr>\n",
       "      <th>sub-16</th>\n",
       "      <td>9.0</td>\n",
       "      <td>0.729272</td>\n",
       "      <td>0.541455</td>\n",
       "    </tr>\n",
       "    <tr>\n",
       "      <th>sub-17</th>\n",
       "      <td>8.0</td>\n",
       "      <td>0.811644</td>\n",
       "      <td>0.760274</td>\n",
       "    </tr>\n",
       "    <tr>\n",
       "      <th>sub-18</th>\n",
       "      <td>5.0</td>\n",
       "      <td>0.824869</td>\n",
       "      <td>0.765324</td>\n",
       "    </tr>\n",
       "  </tbody>\n",
       "</table>\n",
       "</div>"
      ],
      "text/plain": [
       "        dt__max_depth  test score  baseline\n",
       "sub-01            9.0    0.810185  0.481481\n",
       "sub-02            9.0    0.890344  0.545008\n",
       "sub-03            9.0    0.775000  0.328846\n",
       "sub-04            9.0    0.776596  0.419149\n",
       "sub-05            8.0    0.853760  0.607242\n",
       "sub-06            9.0    0.832781  0.473510\n",
       "sub-07            9.0    0.810247  0.584440\n",
       "sub-08            9.0    0.790123  0.438272\n",
       "sub-09            8.0    0.841141  0.443992\n",
       "sub-10            9.0    0.833799  0.403631\n",
       "sub-11            9.0    0.891258  0.407249\n",
       "sub-12            9.0    0.856597  0.606119\n",
       "sub-13            8.0    0.746341  0.631707\n",
       "sub-14            9.0    0.886035  0.452648\n",
       "sub-15            9.0    0.659306  0.427445\n",
       "sub-16            9.0    0.729272  0.541455\n",
       "sub-17            8.0    0.811644  0.760274\n",
       "sub-18            5.0    0.824869  0.765324"
      ]
     },
     "execution_count": 18,
     "metadata": {},
     "output_type": "execute_result"
    }
   ],
   "source": [
    "# Display the results. \n",
    "dt_results"
   ]
  },
  {
   "cell_type": "code",
   "execution_count": 19,
   "metadata": {},
   "outputs": [
    {
     "data": {
      "image/png": "[encoded data removed]",
      "text/plain": [
       "<Figure size 1008x432 with 1 Axes>"
      ]
     },
     "metadata": {
      "needs_background": "light"
     },
     "output_type": "display_data"
    }
   ],
   "source": [
    "# Plot the results. \n",
    "plt.figure(figsize = ((14, 6)))\n",
    "plt.plot(dt_results[['test score']], label = 'test score')\n",
    "plt.plot(dt_results[['baseline']], label = 'baseline')\n",
    "plt.legend();"
   ]
  },
  {
   "cell_type": "markdown",
   "metadata": {},
   "source": [
    "**Result:** Overall, the decision tree model using the EEG data as predictors performs better than the baseline for our group of subjects. "
   ]
  },
  {
   "cell_type": "markdown",
   "metadata": {},
   "source": [
    "### **2.3 Random forest**\n",
    "\n",
    "In the following cells, we **fine-tune, fit and compute predictions from a random forest model**. "
   ]
  },
  {
   "cell_type": "code",
   "execution_count": 20,
   "metadata": {},
   "outputs": [],
   "source": [
    "from sklearn.ensemble import RandomForestClassifier"
   ]
  },
  {
   "cell_type": "code",
   "execution_count": 21,
   "metadata": {},
   "outputs": [
    {
     "data": {
      "text/plain": [
       "array([  5,  10,  15,  20,  25,  30,  35,  40,  45,  50,  55,  60,  65,\n",
       "        70,  75,  80,  85,  90,  95, 100])"
      ]
     },
     "execution_count": 21,
     "metadata": {},
     "output_type": "execute_result"
    }
   ],
   "source": [
    "# Define the set of values to explore, where n is the number of trees. \n",
    "n_values = np.arange(5, 105, 5)\n",
    "n_values"
   ]
  },
  {
   "cell_type": "code",
   "execution_count": 22,
   "metadata": {},
   "outputs": [],
   "source": [
    "# Create pipeline. \n",
    "pipe_rf = Pipeline([\n",
    "    ('scaler', None),\n",
    "    ('rf', RandomForestClassifier(max_depth = None))\n",
    "])\n",
    "\n",
    "# Create cross-validation object. \n",
    "grid_rf = {\n",
    "    'rf__n_estimators': n_values\n",
    "}\n",
    "grid_cv_rf = GridSearchCV(pipe_rf, grid_rf, cv = 5, return_train_score = True, verbose = 0, n_jobs = -1)"
   ]
  },
  {
   "cell_type": "code",
   "execution_count": 23,
   "metadata": {},
   "outputs": [
    {
     "name": "stdout",
     "output_type": "stream",
     "text": [
      "Starting subject sub-01\n",
      "Starting subject sub-02\n",
      "Starting subject sub-03\n",
      "Starting subject sub-04\n",
      "Starting subject sub-05\n",
      "Starting subject sub-06\n",
      "Starting subject sub-07\n",
      "Starting subject sub-08\n",
      "Starting subject sub-09\n",
      "Starting subject sub-10\n",
      "Starting subject sub-11\n",
      "Starting subject sub-12\n",
      "Starting subject sub-13\n",
      "Starting subject sub-14\n",
      "Starting subject sub-15\n",
      "Starting subject sub-16\n",
      "Starting subject sub-17\n",
      "Starting subject sub-18\n"
     ]
    }
   ],
   "source": [
    "# Run the model. \n",
    "rf_results = classification_with_EEG_predictors(grid_cv_rf, 'rf__n_estimators')"
   ]
  },
  {
   "cell_type": "code",
   "execution_count": 24,
   "metadata": {},
   "outputs": [
    {
     "data": {
      "text/html": [
       "<div>\n",
       "<style scoped>\n",
       "    .dataframe tbody tr th:only-of-type {\n",
       "        vertical-align: middle;\n",
       "    }\n",
       "\n",
       "    .dataframe tbody tr th {\n",
       "        vertical-align: top;\n",
       "    }\n",
       "\n",
       "    .dataframe thead th {\n",
       "        text-align: right;\n",
       "    }\n",
       "</style>\n",
       "<table border=\"1\" class=\"dataframe\">\n",
       "  <thead>\n",
       "    <tr style=\"text-align: right;\">\n",
       "      <th></th>\n",
       "      <th>rf__n_estimators</th>\n",
       "      <th>test score</th>\n",
       "      <th>baseline</th>\n",
       "    </tr>\n",
       "  </thead>\n",
       "  <tbody>\n",
       "    <tr>\n",
       "      <th>sub-01</th>\n",
       "      <td>100.0</td>\n",
       "      <td>0.873457</td>\n",
       "      <td>0.475309</td>\n",
       "    </tr>\n",
       "    <tr>\n",
       "      <th>sub-02</th>\n",
       "      <td>90.0</td>\n",
       "      <td>0.941080</td>\n",
       "      <td>0.533552</td>\n",
       "    </tr>\n",
       "    <tr>\n",
       "      <th>sub-03</th>\n",
       "      <td>75.0</td>\n",
       "      <td>0.834615</td>\n",
       "      <td>0.319231</td>\n",
       "    </tr>\n",
       "    <tr>\n",
       "      <th>sub-04</th>\n",
       "      <td>45.0</td>\n",
       "      <td>0.848936</td>\n",
       "      <td>0.404255</td>\n",
       "    </tr>\n",
       "    <tr>\n",
       "      <th>sub-05</th>\n",
       "      <td>90.0</td>\n",
       "      <td>0.917827</td>\n",
       "      <td>0.580780</td>\n",
       "    </tr>\n",
       "    <tr>\n",
       "      <th>sub-06</th>\n",
       "      <td>70.0</td>\n",
       "      <td>0.869205</td>\n",
       "      <td>0.435430</td>\n",
       "    </tr>\n",
       "    <tr>\n",
       "      <th>sub-07</th>\n",
       "      <td>65.0</td>\n",
       "      <td>0.891841</td>\n",
       "      <td>0.567362</td>\n",
       "    </tr>\n",
       "    <tr>\n",
       "      <th>sub-08</th>\n",
       "      <td>100.0</td>\n",
       "      <td>0.907407</td>\n",
       "      <td>0.453704</td>\n",
       "    </tr>\n",
       "    <tr>\n",
       "      <th>sub-09</th>\n",
       "      <td>80.0</td>\n",
       "      <td>0.898167</td>\n",
       "      <td>0.462322</td>\n",
       "    </tr>\n",
       "    <tr>\n",
       "      <th>sub-10</th>\n",
       "      <td>85.0</td>\n",
       "      <td>0.877095</td>\n",
       "      <td>0.412011</td>\n",
       "    </tr>\n",
       "    <tr>\n",
       "      <th>sub-11</th>\n",
       "      <td>50.0</td>\n",
       "      <td>0.950959</td>\n",
       "      <td>0.392324</td>\n",
       "    </tr>\n",
       "    <tr>\n",
       "      <th>sub-12</th>\n",
       "      <td>100.0</td>\n",
       "      <td>0.887189</td>\n",
       "      <td>0.596558</td>\n",
       "    </tr>\n",
       "    <tr>\n",
       "      <th>sub-13</th>\n",
       "      <td>45.0</td>\n",
       "      <td>0.814634</td>\n",
       "      <td>0.634146</td>\n",
       "    </tr>\n",
       "    <tr>\n",
       "      <th>sub-14</th>\n",
       "      <td>95.0</td>\n",
       "      <td>0.963082</td>\n",
       "      <td>0.475120</td>\n",
       "    </tr>\n",
       "    <tr>\n",
       "      <th>sub-15</th>\n",
       "      <td>60.0</td>\n",
       "      <td>0.777603</td>\n",
       "      <td>0.454259</td>\n",
       "    </tr>\n",
       "    <tr>\n",
       "      <th>sub-16</th>\n",
       "      <td>55.0</td>\n",
       "      <td>0.822335</td>\n",
       "      <td>0.536379</td>\n",
       "    </tr>\n",
       "    <tr>\n",
       "      <th>sub-17</th>\n",
       "      <td>85.0</td>\n",
       "      <td>0.873288</td>\n",
       "      <td>0.726027</td>\n",
       "    </tr>\n",
       "    <tr>\n",
       "      <th>sub-18</th>\n",
       "      <td>45.0</td>\n",
       "      <td>0.847636</td>\n",
       "      <td>0.684764</td>\n",
       "    </tr>\n",
       "  </tbody>\n",
       "</table>\n",
       "</div>"
      ],
      "text/plain": [
       "        rf__n_estimators  test score  baseline\n",
       "sub-01             100.0    0.873457  0.475309\n",
       "sub-02              90.0    0.941080  0.533552\n",
       "sub-03              75.0    0.834615  0.319231\n",
       "sub-04              45.0    0.848936  0.404255\n",
       "sub-05              90.0    0.917827  0.580780\n",
       "sub-06              70.0    0.869205  0.435430\n",
       "sub-07              65.0    0.891841  0.567362\n",
       "sub-08             100.0    0.907407  0.453704\n",
       "sub-09              80.0    0.898167  0.462322\n",
       "sub-10              85.0    0.877095  0.412011\n",
       "sub-11              50.0    0.950959  0.392324\n",
       "sub-12             100.0    0.887189  0.596558\n",
       "sub-13              45.0    0.814634  0.634146\n",
       "sub-14              95.0    0.963082  0.475120\n",
       "sub-15              60.0    0.777603  0.454259\n",
       "sub-16              55.0    0.822335  0.536379\n",
       "sub-17              85.0    0.873288  0.726027\n",
       "sub-18              45.0    0.847636  0.684764"
      ]
     },
     "execution_count": 24,
     "metadata": {},
     "output_type": "execute_result"
    }
   ],
   "source": [
    "# Display the results. \n",
    "rf_results"
   ]
  },
  {
   "cell_type": "code",
   "execution_count": 25,
   "metadata": {},
   "outputs": [
    {
     "data": {
      "image/png": "[encoded data removed]",
      "text/plain": [
       "<Figure size 1008x432 with 1 Axes>"
      ]
     },
     "metadata": {
      "needs_background": "light"
     },
     "output_type": "display_data"
    }
   ],
   "source": [
    "# Plot the results. \n",
    "plt.figure(figsize = ((14, 6)))\n",
    "plt.plot(rf_results[['test score']], label = 'test score')\n",
    "plt.plot(rf_results[['baseline']], label = 'baseline')\n",
    "plt.legend();"
   ]
  },
  {
   "cell_type": "markdown",
   "metadata": {},
   "source": [
    "**Result:** Overall, the random forest model using the EEG data as predictors performs better than the baseline for our group of subjects. "
   ]
  },
  {
   "cell_type": "markdown",
   "metadata": {},
   "source": [
    "### **2.4 Support Vector Machine (SVM)**\n",
    "\n",
    "In the following cells, we **fine-tune, fit and compute predictions from a SVM model**. "
   ]
  },
  {
   "cell_type": "code",
   "execution_count": 26,
   "metadata": {},
   "outputs": [],
   "source": [
    "from sklearn.svm import SVC"
   ]
  },
  {
   "cell_type": "code",
   "execution_count": 27,
   "metadata": {},
   "outputs": [
    {
     "data": {
      "text/plain": [
       "array([1.00000000e-02, 4.64158883e-02, 2.15443469e-01, 1.00000000e+00,\n",
       "       4.64158883e+00, 2.15443469e+01, 1.00000000e+02])"
      ]
     },
     "execution_count": 27,
     "metadata": {},
     "output_type": "execute_result"
    }
   ],
   "source": [
    "# Define the set of values to explore, where c is the C parameter. \n",
    "c_values = np.logspace(-2, 2, num = 7)\n",
    "c_values"
   ]
  },
  {
   "cell_type": "code",
   "execution_count": 28,
   "metadata": {},
   "outputs": [],
   "source": [
    "# Create pipeline. \n",
    "pipe_svm = Pipeline([\n",
    "    ('scaler', StandardScaler()),\n",
    "    ('svm', SVC())\n",
    "])\n",
    "\n",
    "# Create cross-validation object. \n",
    "grid_svm = {\n",
    "    'svm__kernel': ['linear'],\n",
    "    'svm__C': c_values,\n",
    "    'svm__gamma': ['auto']\n",
    "}\n",
    "grid_cv_svm = GridSearchCV(pipe_svm, grid_svm, cv = 5, return_train_score = True, verbose = 0, n_jobs = -1)"
   ]
  },
  {
   "cell_type": "code",
   "execution_count": 29,
   "metadata": {},
   "outputs": [
    {
     "name": "stdout",
     "output_type": "stream",
     "text": [
      "Starting subject sub-01\n",
      "Starting subject sub-02\n",
      "Starting subject sub-03\n",
      "Starting subject sub-04\n",
      "Starting subject sub-05\n",
      "Starting subject sub-06\n",
      "Starting subject sub-07\n",
      "Starting subject sub-08\n",
      "Starting subject sub-09\n",
      "Starting subject sub-10\n",
      "Starting subject sub-11\n",
      "Starting subject sub-12\n",
      "Starting subject sub-13\n",
      "Starting subject sub-14\n",
      "Starting subject sub-15\n",
      "Starting subject sub-16\n",
      "Starting subject sub-17\n",
      "Starting subject sub-18\n"
     ]
    }
   ],
   "source": [
    "# Run the model. \n",
    "svm_results = classification_with_EEG_predictors(grid_cv_svm, 'svm__C')"
   ]
  },
  {
   "cell_type": "code",
   "execution_count": 30,
   "metadata": {},
   "outputs": [
    {
     "data": {
      "text/html": [
       "<div>\n",
       "<style scoped>\n",
       "    .dataframe tbody tr th:only-of-type {\n",
       "        vertical-align: middle;\n",
       "    }\n",
       "\n",
       "    .dataframe tbody tr th {\n",
       "        vertical-align: top;\n",
       "    }\n",
       "\n",
       "    .dataframe thead th {\n",
       "        text-align: right;\n",
       "    }\n",
       "</style>\n",
       "<table border=\"1\" class=\"dataframe\">\n",
       "  <thead>\n",
       "    <tr style=\"text-align: right;\">\n",
       "      <th></th>\n",
       "      <th>svm__C</th>\n",
       "      <th>test score</th>\n",
       "      <th>baseline</th>\n",
       "    </tr>\n",
       "  </thead>\n",
       "  <tbody>\n",
       "    <tr>\n",
       "      <th>sub-01</th>\n",
       "      <td>4.641589</td>\n",
       "      <td>0.766975</td>\n",
       "      <td>0.493827</td>\n",
       "    </tr>\n",
       "    <tr>\n",
       "      <th>sub-02</th>\n",
       "      <td>1.000000</td>\n",
       "      <td>0.885434</td>\n",
       "      <td>0.543372</td>\n",
       "    </tr>\n",
       "    <tr>\n",
       "      <th>sub-03</th>\n",
       "      <td>21.544347</td>\n",
       "      <td>0.711538</td>\n",
       "      <td>0.344231</td>\n",
       "    </tr>\n",
       "    <tr>\n",
       "      <th>sub-04</th>\n",
       "      <td>0.010000</td>\n",
       "      <td>0.751064</td>\n",
       "      <td>0.402128</td>\n",
       "    </tr>\n",
       "    <tr>\n",
       "      <th>sub-05</th>\n",
       "      <td>1.000000</td>\n",
       "      <td>0.850975</td>\n",
       "      <td>0.596100</td>\n",
       "    </tr>\n",
       "    <tr>\n",
       "      <th>sub-06</th>\n",
       "      <td>21.544347</td>\n",
       "      <td>0.794702</td>\n",
       "      <td>0.438742</td>\n",
       "    </tr>\n",
       "    <tr>\n",
       "      <th>sub-07</th>\n",
       "      <td>1.000000</td>\n",
       "      <td>0.774194</td>\n",
       "      <td>0.607211</td>\n",
       "    </tr>\n",
       "    <tr>\n",
       "      <th>sub-08</th>\n",
       "      <td>4.641589</td>\n",
       "      <td>0.753086</td>\n",
       "      <td>0.461420</td>\n",
       "    </tr>\n",
       "    <tr>\n",
       "      <th>sub-09</th>\n",
       "      <td>1.000000</td>\n",
       "      <td>0.816701</td>\n",
       "      <td>0.437882</td>\n",
       "    </tr>\n",
       "    <tr>\n",
       "      <th>sub-10</th>\n",
       "      <td>100.000000</td>\n",
       "      <td>0.824022</td>\n",
       "      <td>0.420391</td>\n",
       "    </tr>\n",
       "    <tr>\n",
       "      <th>sub-11</th>\n",
       "      <td>1.000000</td>\n",
       "      <td>0.859275</td>\n",
       "      <td>0.398721</td>\n",
       "    </tr>\n",
       "    <tr>\n",
       "      <th>sub-12</th>\n",
       "      <td>1.000000</td>\n",
       "      <td>0.820268</td>\n",
       "      <td>0.567878</td>\n",
       "    </tr>\n",
       "    <tr>\n",
       "      <th>sub-13</th>\n",
       "      <td>0.010000</td>\n",
       "      <td>0.619512</td>\n",
       "      <td>0.619512</td>\n",
       "    </tr>\n",
       "    <tr>\n",
       "      <th>sub-14</th>\n",
       "      <td>0.215443</td>\n",
       "      <td>0.757624</td>\n",
       "      <td>0.476726</td>\n",
       "    </tr>\n",
       "    <tr>\n",
       "      <th>sub-15</th>\n",
       "      <td>100.000000</td>\n",
       "      <td>0.578864</td>\n",
       "      <td>0.440063</td>\n",
       "    </tr>\n",
       "    <tr>\n",
       "      <th>sub-16</th>\n",
       "      <td>0.010000</td>\n",
       "      <td>0.619289</td>\n",
       "      <td>0.495770</td>\n",
       "    </tr>\n",
       "    <tr>\n",
       "      <th>sub-17</th>\n",
       "      <td>0.010000</td>\n",
       "      <td>0.736301</td>\n",
       "      <td>0.736301</td>\n",
       "    </tr>\n",
       "    <tr>\n",
       "      <th>sub-18</th>\n",
       "      <td>100.000000</td>\n",
       "      <td>0.816112</td>\n",
       "      <td>0.725044</td>\n",
       "    </tr>\n",
       "  </tbody>\n",
       "</table>\n",
       "</div>"
      ],
      "text/plain": [
       "            svm__C  test score  baseline\n",
       "sub-01    4.641589    0.766975  0.493827\n",
       "sub-02    1.000000    0.885434  0.543372\n",
       "sub-03   21.544347    0.711538  0.344231\n",
       "sub-04    0.010000    0.751064  0.402128\n",
       "sub-05    1.000000    0.850975  0.596100\n",
       "sub-06   21.544347    0.794702  0.438742\n",
       "sub-07    1.000000    0.774194  0.607211\n",
       "sub-08    4.641589    0.753086  0.461420\n",
       "sub-09    1.000000    0.816701  0.437882\n",
       "sub-10  100.000000    0.824022  0.420391\n",
       "sub-11    1.000000    0.859275  0.398721\n",
       "sub-12    1.000000    0.820268  0.567878\n",
       "sub-13    0.010000    0.619512  0.619512\n",
       "sub-14    0.215443    0.757624  0.476726\n",
       "sub-15  100.000000    0.578864  0.440063\n",
       "sub-16    0.010000    0.619289  0.495770\n",
       "sub-17    0.010000    0.736301  0.736301\n",
       "sub-18  100.000000    0.816112  0.725044"
      ]
     },
     "execution_count": 30,
     "metadata": {},
     "output_type": "execute_result"
    }
   ],
   "source": [
    "# Display the results. \n",
    "svm_results"
   ]
  },
  {
   "cell_type": "code",
   "execution_count": 31,
   "metadata": {},
   "outputs": [
    {
     "data": {
      "image/png": "[encoded data removed]",
      "text/plain": [
       "<Figure size 1008x432 with 1 Axes>"
      ]
     },
     "metadata": {
      "needs_background": "light"
     },
     "output_type": "display_data"
    }
   ],
   "source": [
    "# Plot the results. \n",
    "plt.figure(figsize = ((14, 6)))\n",
    "plt.plot(svm_results[['test score']], label = 'test score')\n",
    "plt.plot(svm_results[['baseline']], label = 'baseline')\n",
    "plt.legend();"
   ]
  },
  {
   "cell_type": "markdown",
   "metadata": {},
   "source": [
    "**Result:** Overall, the SVM model using the EEG data as predictors performs better than the baseline for our group of subjects. "
   ]
  },
  {
   "cell_type": "markdown",
   "metadata": {},
   "source": [
    "### **2.5 Logistic regression**\n",
    "\n",
    "In the following cells, we **fine-tune, fit and compute predictions from a logistic regression model**. "
   ]
  },
  {
   "cell_type": "code",
   "execution_count": 32,
   "metadata": {},
   "outputs": [],
   "source": [
    "from sklearn.linear_model import LogisticRegression"
   ]
  },
  {
   "cell_type": "code",
   "execution_count": 33,
   "metadata": {},
   "outputs": [
    {
     "data": {
      "text/plain": [
       "array([1.00000000e-05, 4.64158883e-04, 2.15443469e-02, 1.00000000e+00,\n",
       "       4.64158883e+01, 2.15443469e+03, 1.00000000e+05])"
      ]
     },
     "execution_count": 33,
     "metadata": {},
     "output_type": "execute_result"
    }
   ],
   "source": [
    "# Define the set of values to explore, where c is the C parameter. \n",
    "c_values = np.logspace(-5, 5, num = 7)\n",
    "c_values"
   ]
  },
  {
   "cell_type": "code",
   "execution_count": 34,
   "metadata": {},
   "outputs": [],
   "source": [
    "# Create pipeline. \n",
    "pipe_logreg = Pipeline([\n",
    "    ('scaler', StandardScaler()),\n",
    "    ('logreg', LogisticRegression())\n",
    "])\n",
    "\n",
    "# Create cross-validation object. \n",
    "grid_logreg = {\n",
    "    'logreg__multi_class': ['multinomial'],\n",
    "    'logreg__solver': ['saga'],\n",
    "    'logreg__C': c_values\n",
    "}\n",
    "grid_cv_logreg = GridSearchCV(pipe_logreg, grid_logreg, cv = 5, return_train_score = True, verbose = 0, n_jobs = -1)"
   ]
  },
  {
   "cell_type": "code",
   "execution_count": 35,
   "metadata": {},
   "outputs": [
    {
     "name": "stdout",
     "output_type": "stream",
     "text": [
      "Starting subject sub-01\n",
      "Starting subject sub-02\n",
      "Starting subject sub-03\n",
      "Starting subject sub-04\n",
      "Starting subject sub-05\n",
      "Starting subject sub-06\n",
      "Starting subject sub-07\n",
      "Starting subject sub-08\n",
      "Starting subject sub-09\n",
      "Starting subject sub-10\n",
      "Starting subject sub-11\n",
      "Starting subject sub-12\n",
      "Starting subject sub-13\n",
      "Starting subject sub-14\n",
      "Starting subject sub-15\n",
      "Starting subject sub-16\n",
      "Starting subject sub-17\n",
      "Starting subject sub-18\n"
     ]
    }
   ],
   "source": [
    "# Run the model. \n",
    "logreg_results = classification_with_EEG_predictors(grid_cv_logreg, 'logreg__C')"
   ]
  },
  {
   "cell_type": "code",
   "execution_count": 36,
   "metadata": {},
   "outputs": [
    {
     "data": {
      "text/html": [
       "<div>\n",
       "<style scoped>\n",
       "    .dataframe tbody tr th:only-of-type {\n",
       "        vertical-align: middle;\n",
       "    }\n",
       "\n",
       "    .dataframe tbody tr th {\n",
       "        vertical-align: top;\n",
       "    }\n",
       "\n",
       "    .dataframe thead th {\n",
       "        text-align: right;\n",
       "    }\n",
       "</style>\n",
       "<table border=\"1\" class=\"dataframe\">\n",
       "  <thead>\n",
       "    <tr style=\"text-align: right;\">\n",
       "      <th></th>\n",
       "      <th>logreg__C</th>\n",
       "      <th>test score</th>\n",
       "      <th>baseline</th>\n",
       "    </tr>\n",
       "  </thead>\n",
       "  <tbody>\n",
       "    <tr>\n",
       "      <th>sub-01</th>\n",
       "      <td>1.000000</td>\n",
       "      <td>0.751543</td>\n",
       "      <td>0.487654</td>\n",
       "    </tr>\n",
       "    <tr>\n",
       "      <th>sub-02</th>\n",
       "      <td>46.415888</td>\n",
       "      <td>0.878887</td>\n",
       "      <td>0.518822</td>\n",
       "    </tr>\n",
       "    <tr>\n",
       "      <th>sub-03</th>\n",
       "      <td>46.415888</td>\n",
       "      <td>0.728846</td>\n",
       "      <td>0.300000</td>\n",
       "    </tr>\n",
       "    <tr>\n",
       "      <th>sub-04</th>\n",
       "      <td>0.021544</td>\n",
       "      <td>0.727660</td>\n",
       "      <td>0.402128</td>\n",
       "    </tr>\n",
       "    <tr>\n",
       "      <th>sub-05</th>\n",
       "      <td>1.000000</td>\n",
       "      <td>0.824513</td>\n",
       "      <td>0.618384</td>\n",
       "    </tr>\n",
       "    <tr>\n",
       "      <th>sub-06</th>\n",
       "      <td>2154.434690</td>\n",
       "      <td>0.809603</td>\n",
       "      <td>0.460265</td>\n",
       "    </tr>\n",
       "    <tr>\n",
       "      <th>sub-07</th>\n",
       "      <td>46.415888</td>\n",
       "      <td>0.787476</td>\n",
       "      <td>0.624288</td>\n",
       "    </tr>\n",
       "    <tr>\n",
       "      <th>sub-08</th>\n",
       "      <td>1.000000</td>\n",
       "      <td>0.790123</td>\n",
       "      <td>0.481481</td>\n",
       "    </tr>\n",
       "    <tr>\n",
       "      <th>sub-09</th>\n",
       "      <td>1.000000</td>\n",
       "      <td>0.814664</td>\n",
       "      <td>0.474542</td>\n",
       "    </tr>\n",
       "    <tr>\n",
       "      <th>sub-10</th>\n",
       "      <td>1.000000</td>\n",
       "      <td>0.789106</td>\n",
       "      <td>0.428771</td>\n",
       "    </tr>\n",
       "    <tr>\n",
       "      <th>sub-11</th>\n",
       "      <td>1.000000</td>\n",
       "      <td>0.867804</td>\n",
       "      <td>0.415778</td>\n",
       "    </tr>\n",
       "    <tr>\n",
       "      <th>sub-12</th>\n",
       "      <td>1.000000</td>\n",
       "      <td>0.848948</td>\n",
       "      <td>0.600382</td>\n",
       "    </tr>\n",
       "    <tr>\n",
       "      <th>sub-13</th>\n",
       "      <td>1.000000</td>\n",
       "      <td>0.639024</td>\n",
       "      <td>0.619512</td>\n",
       "    </tr>\n",
       "    <tr>\n",
       "      <th>sub-14</th>\n",
       "      <td>1.000000</td>\n",
       "      <td>0.764045</td>\n",
       "      <td>0.436597</td>\n",
       "    </tr>\n",
       "    <tr>\n",
       "      <th>sub-15</th>\n",
       "      <td>46.415888</td>\n",
       "      <td>0.523659</td>\n",
       "      <td>0.432177</td>\n",
       "    </tr>\n",
       "    <tr>\n",
       "      <th>sub-16</th>\n",
       "      <td>0.000464</td>\n",
       "      <td>0.666667</td>\n",
       "      <td>0.504230</td>\n",
       "    </tr>\n",
       "    <tr>\n",
       "      <th>sub-17</th>\n",
       "      <td>1.000000</td>\n",
       "      <td>0.722603</td>\n",
       "      <td>0.708904</td>\n",
       "    </tr>\n",
       "    <tr>\n",
       "      <th>sub-18</th>\n",
       "      <td>1.000000</td>\n",
       "      <td>0.823117</td>\n",
       "      <td>0.737303</td>\n",
       "    </tr>\n",
       "  </tbody>\n",
       "</table>\n",
       "</div>"
      ],
      "text/plain": [
       "          logreg__C  test score  baseline\n",
       "sub-01     1.000000    0.751543  0.487654\n",
       "sub-02    46.415888    0.878887  0.518822\n",
       "sub-03    46.415888    0.728846  0.300000\n",
       "sub-04     0.021544    0.727660  0.402128\n",
       "sub-05     1.000000    0.824513  0.618384\n",
       "sub-06  2154.434690    0.809603  0.460265\n",
       "sub-07    46.415888    0.787476  0.624288\n",
       "sub-08     1.000000    0.790123  0.481481\n",
       "sub-09     1.000000    0.814664  0.474542\n",
       "sub-10     1.000000    0.789106  0.428771\n",
       "sub-11     1.000000    0.867804  0.415778\n",
       "sub-12     1.000000    0.848948  0.600382\n",
       "sub-13     1.000000    0.639024  0.619512\n",
       "sub-14     1.000000    0.764045  0.436597\n",
       "sub-15    46.415888    0.523659  0.432177\n",
       "sub-16     0.000464    0.666667  0.504230\n",
       "sub-17     1.000000    0.722603  0.708904\n",
       "sub-18     1.000000    0.823117  0.737303"
      ]
     },
     "execution_count": 36,
     "metadata": {},
     "output_type": "execute_result"
    }
   ],
   "source": [
    "# Display the results. \n",
    "logreg_results"
   ]
  },
  {
   "cell_type": "code",
   "execution_count": 37,
   "metadata": {},
   "outputs": [
    {
     "data": {
      "image/png": "[encoded data removed]",
      "text/plain": [
       "<Figure size 1008x432 with 1 Axes>"
      ]
     },
     "metadata": {
      "needs_background": "light"
     },
     "output_type": "display_data"
    }
   ],
   "source": [
    "# Plot the results. \n",
    "plt.figure(figsize = ((14, 6)))\n",
    "plt.plot(logreg_results[['test score']], label = 'test score')\n",
    "plt.plot(logreg_results[['baseline']], label = 'baseline')\n",
    "plt.legend();"
   ]
  },
  {
   "cell_type": "markdown",
   "metadata": {},
   "source": [
    "**Result:** Overall, the logistic regression model using the EEG data as predictors performs better than the baseline for our group of subjects. "
   ]
  },
  {
   "cell_type": "code",
   "execution_count": 38,
   "metadata": {},
   "outputs": [],
   "source": [
    "# Save the results into a .npz file. \n",
    "np.savez(results_path + 'classification_with_EEG_predictors.npz', \n",
    "         knn_results = knn_results, \n",
    "         dt_results = dt_results, \n",
    "         rf_results = rf_results, \n",
    "         svm_results = svm_results, \n",
    "         logreg_results = logreg_results)"
   ]
  },
  {
   "cell_type": "markdown",
   "metadata": {},
   "source": [
    "## **3. Hypnogram prediction based on fMRI data**\n",
    "\n",
    "### **3.1 K-Nearest Neighbors (k-NN)**\n",
    "\n",
    "In the following cells, we **fine-tune, fit and compute predictions from a k-NN model**. "
   ]
  },
  {
   "cell_type": "code",
   "execution_count": 39,
   "metadata": {},
   "outputs": [
    {
     "name": "stdout",
     "output_type": "stream",
     "text": [
      "Starting subject sub-01\n",
      "Starting subject sub-02\n",
      "Starting subject sub-03\n",
      "Starting subject sub-04\n",
      "Starting subject sub-05\n",
      "Starting subject sub-06\n",
      "Starting subject sub-07\n",
      "Starting subject sub-08\n",
      "Starting subject sub-09\n",
      "Starting subject sub-10\n",
      "Starting subject sub-11\n",
      "Starting subject sub-12\n",
      "Starting subject sub-13\n",
      "Starting subject sub-14\n",
      "Starting subject sub-15\n",
      "Starting subject sub-16\n",
      "Starting subject sub-17\n",
      "Starting subject sub-18\n"
     ]
    }
   ],
   "source": [
    "# Create a new dictionary to store the formatted fMRI data. \n",
    "formatted_predictors_fMRI_r3 = dict()\n",
    "\n",
    "# Iterate through all subjects. \n",
    "for subject_index in subjects:\n",
    "\n",
    "    # Display current step. \n",
    "    print('Starting subject ' + subject_index)\n",
    "    \n",
    "    # Load the data, and count the number of non-NaN voxels in each 3D image. \n",
    "    image_data = predictors_fMRI_r3[subject_index]\n",
    "    nb_non_nan_voxels = np.sum(~np.isnan(image_data[:, :, :, 0]))\n",
    "    \n",
    "    # Retrieve the number of scans, then create a NumPy array with one row per scan and one column per non-NaN voxel. \n",
    "    nb_scans = image_data.shape[3]\n",
    "    formatted_data = np.empty((nb_scans, nb_non_nan_voxels))\n",
    "    \n",
    "    # Fill in the array. \n",
    "    for scan in range(nb_scans):\n",
    "        flatten_image = image_data[:, :, :, scan].flatten()\n",
    "        flatten_image = flatten_image[~np.isnan(flatten_image)]\n",
    "        formatted_data[scan, :] = flatten_image\n",
    "        \n",
    "    # Fill in the dictionary. \n",
    "    formatted_predictors_fMRI_r3[subject_index] = formatted_data"
   ]
  },
  {
   "cell_type": "code",
   "execution_count": 40,
   "metadata": {},
   "outputs": [
    {
     "data": {
      "text/plain": [
       "array([1, 2, 3, 4])"
      ]
     },
     "execution_count": 40,
     "metadata": {},
     "output_type": "execute_result"
    }
   ],
   "source": [
    "# Define the set of values to explore, where k is the number of neighbors. \n",
    "k_values = np.arange(1, 5, 1)\n",
    "k_values"
   ]
  },
  {
   "cell_type": "code",
   "execution_count": 41,
   "metadata": {},
   "outputs": [],
   "source": [
    "# Create pipeline. \n",
    "pipe_knn = Pipeline([\n",
    "    ('scaler', StandardScaler()),\n",
    "    ('knn', KNeighborsClassifier())\n",
    "])\n",
    "\n",
    "# Create cross-validation object. \n",
    "grid_knn = {\n",
    "    'knn__n_neighbors': k_values\n",
    "}\n",
    "grid_cv_knn = GridSearchCV(pipe_knn, grid_knn, cv = 5, return_train_score = True, verbose = 0, n_jobs = -1)"
   ]
  },
  {
   "cell_type": "code",
   "execution_count": 42,
   "metadata": {},
   "outputs": [],
   "source": [
    "from sklearn.utils.testing import ignore_warnings\n",
    "from sklearn.exceptions import ConvergenceWarning"
   ]
  },
  {
   "cell_type": "code",
   "execution_count": 43,
   "metadata": {},
   "outputs": [],
   "source": [
    "# Define a function to run a classification model, taking the fMRI voxel values as features and the hypnogram as target. \n",
    "@ignore_warnings(category = ConvergenceWarning)\n",
    "def classification_with_fMRI_predictors(grid_cv, param_name, formatted_predictors_fMRI):\n",
    "    \n",
    "    # Create a Pandas DataFrame to store the results. \n",
    "    model_results = pd.DataFrame()\n",
    "\n",
    "    # Iterate through all subjects. \n",
    "    for subject_index in subjects[1:]: # Warning: the first subject has inconsistent length of EEG and fMRI data. \n",
    "\n",
    "        # Display current step. \n",
    "        print('Starting subject ' + subject_index)\n",
    "\n",
    "        # Retrieve the predictors, taking the fMRI voxel values as features and the hypnogram as target. \n",
    "        X = formatted_predictors_fMRI[subject_index]\n",
    "        y = predictors_EEG[subject_index].iloc[:, 1].values\n",
    "\n",
    "        # Divide the data into a train set and a test set. \n",
    "        X_tr, X_te, y_tr, y_te = train_test_split(X, y, test_size = test_set_proportion)\n",
    "\n",
    "        # Create a baseline containing only the most frequent value in the train set. \n",
    "        most_frequent_value = np.bincount(y_tr.astype(int)).argmax()\n",
    "        classification_baseline = np.sum(y_te.astype(int) == most_frequent_value) / y_te.shape[0]\n",
    "\n",
    "        # Fit the model. \n",
    "        grid_cv.fit(X_tr, y_tr)\n",
    "\n",
    "        # Compute the test score. \n",
    "        test_score = grid_cv.score(X_te, y_te)\n",
    "\n",
    "        # Store the results in the DataFrame. \n",
    "        model_results.loc[subject_index, param_name] = grid_cv.best_params_[param_name]\n",
    "        model_results.loc[subject_index, 'test score'] = test_score\n",
    "        model_results.loc[subject_index, 'baseline'] = classification_baseline\n",
    "        \n",
    "    return model_results"
   ]
  },
  {
   "cell_type": "code",
   "execution_count": 44,
   "metadata": {},
   "outputs": [
    {
     "name": "stdout",
     "output_type": "stream",
     "text": [
      "Starting subject sub-02\n",
      "Starting subject sub-03\n",
      "Starting subject sub-04\n",
      "Starting subject sub-05\n",
      "Starting subject sub-06\n",
      "Starting subject sub-07\n",
      "Starting subject sub-08\n",
      "Starting subject sub-09\n",
      "Starting subject sub-10\n",
      "Starting subject sub-11\n",
      "Starting subject sub-12\n",
      "Starting subject sub-13\n",
      "Starting subject sub-14\n",
      "Starting subject sub-15\n",
      "Starting subject sub-16\n",
      "Starting subject sub-17\n",
      "Starting subject sub-18\n"
     ]
    }
   ],
   "source": [
    "# Run the model. \n",
    "knn_results = classification_with_fMRI_predictors(grid_cv_knn, 'knn__n_neighbors', formatted_predictors_fMRI_r3)"
   ]
  },
  {
   "cell_type": "code",
   "execution_count": 45,
   "metadata": {},
   "outputs": [
    {
     "data": {
      "text/html": [
       "<div>\n",
       "<style scoped>\n",
       "    .dataframe tbody tr th:only-of-type {\n",
       "        vertical-align: middle;\n",
       "    }\n",
       "\n",
       "    .dataframe tbody tr th {\n",
       "        vertical-align: top;\n",
       "    }\n",
       "\n",
       "    .dataframe thead th {\n",
       "        text-align: right;\n",
       "    }\n",
       "</style>\n",
       "<table border=\"1\" class=\"dataframe\">\n",
       "  <thead>\n",
       "    <tr style=\"text-align: right;\">\n",
       "      <th></th>\n",
       "      <th>knn__n_neighbors</th>\n",
       "      <th>test score</th>\n",
       "      <th>baseline</th>\n",
       "    </tr>\n",
       "  </thead>\n",
       "  <tbody>\n",
       "    <tr>\n",
       "      <th>sub-02</th>\n",
       "      <td>1.0</td>\n",
       "      <td>0.960720</td>\n",
       "      <td>0.527005</td>\n",
       "    </tr>\n",
       "    <tr>\n",
       "      <th>sub-03</th>\n",
       "      <td>1.0</td>\n",
       "      <td>0.888462</td>\n",
       "      <td>0.334615</td>\n",
       "    </tr>\n",
       "    <tr>\n",
       "      <th>sub-04</th>\n",
       "      <td>1.0</td>\n",
       "      <td>0.851064</td>\n",
       "      <td>0.417021</td>\n",
       "    </tr>\n",
       "    <tr>\n",
       "      <th>sub-05</th>\n",
       "      <td>1.0</td>\n",
       "      <td>0.947075</td>\n",
       "      <td>0.601671</td>\n",
       "    </tr>\n",
       "    <tr>\n",
       "      <th>sub-06</th>\n",
       "      <td>4.0</td>\n",
       "      <td>0.865894</td>\n",
       "      <td>0.438742</td>\n",
       "    </tr>\n",
       "    <tr>\n",
       "      <th>sub-07</th>\n",
       "      <td>1.0</td>\n",
       "      <td>0.920304</td>\n",
       "      <td>0.599620</td>\n",
       "    </tr>\n",
       "    <tr>\n",
       "      <th>sub-08</th>\n",
       "      <td>3.0</td>\n",
       "      <td>0.910494</td>\n",
       "      <td>0.418210</td>\n",
       "    </tr>\n",
       "    <tr>\n",
       "      <th>sub-09</th>\n",
       "      <td>1.0</td>\n",
       "      <td>0.973523</td>\n",
       "      <td>0.492872</td>\n",
       "    </tr>\n",
       "    <tr>\n",
       "      <th>sub-10</th>\n",
       "      <td>1.0</td>\n",
       "      <td>0.938547</td>\n",
       "      <td>0.406425</td>\n",
       "    </tr>\n",
       "    <tr>\n",
       "      <th>sub-11</th>\n",
       "      <td>1.0</td>\n",
       "      <td>0.959488</td>\n",
       "      <td>0.383795</td>\n",
       "    </tr>\n",
       "    <tr>\n",
       "      <th>sub-12</th>\n",
       "      <td>1.0</td>\n",
       "      <td>0.952199</td>\n",
       "      <td>0.602294</td>\n",
       "    </tr>\n",
       "    <tr>\n",
       "      <th>sub-13</th>\n",
       "      <td>3.0</td>\n",
       "      <td>0.821951</td>\n",
       "      <td>0.604878</td>\n",
       "    </tr>\n",
       "    <tr>\n",
       "      <th>sub-14</th>\n",
       "      <td>1.0</td>\n",
       "      <td>0.958266</td>\n",
       "      <td>0.449438</td>\n",
       "    </tr>\n",
       "    <tr>\n",
       "      <th>sub-15</th>\n",
       "      <td>1.0</td>\n",
       "      <td>0.804416</td>\n",
       "      <td>0.477918</td>\n",
       "    </tr>\n",
       "    <tr>\n",
       "      <th>sub-16</th>\n",
       "      <td>3.0</td>\n",
       "      <td>0.864636</td>\n",
       "      <td>0.519459</td>\n",
       "    </tr>\n",
       "    <tr>\n",
       "      <th>sub-17</th>\n",
       "      <td>3.0</td>\n",
       "      <td>0.866438</td>\n",
       "      <td>0.722603</td>\n",
       "    </tr>\n",
       "    <tr>\n",
       "      <th>sub-18</th>\n",
       "      <td>3.0</td>\n",
       "      <td>0.894921</td>\n",
       "      <td>0.742557</td>\n",
       "    </tr>\n",
       "  </tbody>\n",
       "</table>\n",
       "</div>"
      ],
      "text/plain": [
       "        knn__n_neighbors  test score  baseline\n",
       "sub-02               1.0    0.960720  0.527005\n",
       "sub-03               1.0    0.888462  0.334615\n",
       "sub-04               1.0    0.851064  0.417021\n",
       "sub-05               1.0    0.947075  0.601671\n",
       "sub-06               4.0    0.865894  0.438742\n",
       "sub-07               1.0    0.920304  0.599620\n",
       "sub-08               3.0    0.910494  0.418210\n",
       "sub-09               1.0    0.973523  0.492872\n",
       "sub-10               1.0    0.938547  0.406425\n",
       "sub-11               1.0    0.959488  0.383795\n",
       "sub-12               1.0    0.952199  0.602294\n",
       "sub-13               3.0    0.821951  0.604878\n",
       "sub-14               1.0    0.958266  0.449438\n",
       "sub-15               1.0    0.804416  0.477918\n",
       "sub-16               3.0    0.864636  0.519459\n",
       "sub-17               3.0    0.866438  0.722603\n",
       "sub-18               3.0    0.894921  0.742557"
      ]
     },
     "execution_count": 45,
     "metadata": {},
     "output_type": "execute_result"
    }
   ],
   "source": [
    "# Display the results. \n",
    "knn_results"
   ]
  },
  {
   "cell_type": "code",
   "execution_count": 46,
   "metadata": {},
   "outputs": [
    {
     "data": {
      "image/png": "[encoded data removed]",
      "text/plain": [
       "<Figure size 1008x432 with 1 Axes>"
      ]
     },
     "metadata": {
      "needs_background": "light"
     },
     "output_type": "display_data"
    }
   ],
   "source": [
    "# Plot the results. \n",
    "plt.figure(figsize = ((14, 6)))\n",
    "plt.plot(knn_results[['test score']], label = 'test score')\n",
    "plt.plot(knn_results[['baseline']], label = 'baseline')\n",
    "plt.legend();"
   ]
  },
  {
   "cell_type": "markdown",
   "metadata": {},
   "source": [
    "**Result:** Overall, the k-NN model using the fMRI data as predictors performs better than the baseline for our group of subjects. "
   ]
  },
  {
   "cell_type": "markdown",
   "metadata": {},
   "source": [
    "### **3.2 Decision tree**\n",
    "\n",
    "In the following cells, we **fine-tune, fit and compute predictions from a decision tree model**. "
   ]
  },
  {
   "cell_type": "code",
   "execution_count": 47,
   "metadata": {},
   "outputs": [
    {
     "data": {
      "text/plain": [
       "array([1, 2, 3, 4, 5, 6, 7, 8, 9])"
      ]
     },
     "execution_count": 47,
     "metadata": {},
     "output_type": "execute_result"
    }
   ],
   "source": [
    "# Define the set of values to explore, where d is the depth of the tree. \n",
    "d_values = np.arange(1, 10, 1)\n",
    "d_values"
   ]
  },
  {
   "cell_type": "code",
   "execution_count": 48,
   "metadata": {},
   "outputs": [],
   "source": [
    "# Create pipeline. \n",
    "pipe_dt = Pipeline([\n",
    "    ('scaler', None),\n",
    "    ('dt', DecisionTreeClassifier(criterion = 'gini'))\n",
    "])\n",
    "\n",
    "# Create cross-validation object. \n",
    "grid_dt = {\n",
    "    'dt__max_depth': d_values\n",
    "}\n",
    "grid_cv_dt = GridSearchCV(pipe_dt, grid_dt, cv = 5, return_train_score = True, verbose = 0, n_jobs = -1)"
   ]
  },
  {
   "cell_type": "code",
   "execution_count": 49,
   "metadata": {},
   "outputs": [
    {
     "name": "stdout",
     "output_type": "stream",
     "text": [
      "Starting subject sub-02\n",
      "Starting subject sub-03\n",
      "Starting subject sub-04\n",
      "Starting subject sub-05\n",
      "Starting subject sub-06\n",
      "Starting subject sub-07\n",
      "Starting subject sub-08\n",
      "Starting subject sub-09\n",
      "Starting subject sub-10\n",
      "Starting subject sub-11\n",
      "Starting subject sub-12\n",
      "Starting subject sub-13\n",
      "Starting subject sub-14\n",
      "Starting subject sub-15\n",
      "Starting subject sub-16\n",
      "Starting subject sub-17\n",
      "Starting subject sub-18\n"
     ]
    }
   ],
   "source": [
    "# Run the model. \n",
    "dt_results = classification_with_fMRI_predictors(grid_cv_dt, 'dt__max_depth', formatted_predictors_fMRI_r3)"
   ]
  },
  {
   "cell_type": "code",
   "execution_count": 50,
   "metadata": {},
   "outputs": [
    {
     "data": {
      "text/html": [
       "<div>\n",
       "<style scoped>\n",
       "    .dataframe tbody tr th:only-of-type {\n",
       "        vertical-align: middle;\n",
       "    }\n",
       "\n",
       "    .dataframe tbody tr th {\n",
       "        vertical-align: top;\n",
       "    }\n",
       "\n",
       "    .dataframe thead th {\n",
       "        text-align: right;\n",
       "    }\n",
       "</style>\n",
       "<table border=\"1\" class=\"dataframe\">\n",
       "  <thead>\n",
       "    <tr style=\"text-align: right;\">\n",
       "      <th></th>\n",
       "      <th>dt__max_depth</th>\n",
       "      <th>test score</th>\n",
       "      <th>baseline</th>\n",
       "    </tr>\n",
       "  </thead>\n",
       "  <tbody>\n",
       "    <tr>\n",
       "      <th>sub-02</th>\n",
       "      <td>3.0</td>\n",
       "      <td>0.932897</td>\n",
       "      <td>0.535188</td>\n",
       "    </tr>\n",
       "    <tr>\n",
       "      <th>sub-03</th>\n",
       "      <td>9.0</td>\n",
       "      <td>0.719231</td>\n",
       "      <td>0.328846</td>\n",
       "    </tr>\n",
       "    <tr>\n",
       "      <th>sub-04</th>\n",
       "      <td>7.0</td>\n",
       "      <td>0.789362</td>\n",
       "      <td>0.419149</td>\n",
       "    </tr>\n",
       "    <tr>\n",
       "      <th>sub-05</th>\n",
       "      <td>8.0</td>\n",
       "      <td>0.864903</td>\n",
       "      <td>0.597493</td>\n",
       "    </tr>\n",
       "    <tr>\n",
       "      <th>sub-06</th>\n",
       "      <td>4.0</td>\n",
       "      <td>0.817881</td>\n",
       "      <td>0.455298</td>\n",
       "    </tr>\n",
       "    <tr>\n",
       "      <th>sub-07</th>\n",
       "      <td>7.0</td>\n",
       "      <td>0.798861</td>\n",
       "      <td>0.590133</td>\n",
       "    </tr>\n",
       "    <tr>\n",
       "      <th>sub-08</th>\n",
       "      <td>4.0</td>\n",
       "      <td>0.848765</td>\n",
       "      <td>0.435185</td>\n",
       "    </tr>\n",
       "    <tr>\n",
       "      <th>sub-09</th>\n",
       "      <td>6.0</td>\n",
       "      <td>0.942974</td>\n",
       "      <td>0.443992</td>\n",
       "    </tr>\n",
       "    <tr>\n",
       "      <th>sub-10</th>\n",
       "      <td>4.0</td>\n",
       "      <td>0.835196</td>\n",
       "      <td>0.413408</td>\n",
       "    </tr>\n",
       "    <tr>\n",
       "      <th>sub-11</th>\n",
       "      <td>7.0</td>\n",
       "      <td>0.848614</td>\n",
       "      <td>0.413646</td>\n",
       "    </tr>\n",
       "    <tr>\n",
       "      <th>sub-12</th>\n",
       "      <td>7.0</td>\n",
       "      <td>0.896750</td>\n",
       "      <td>0.634799</td>\n",
       "    </tr>\n",
       "    <tr>\n",
       "      <th>sub-13</th>\n",
       "      <td>4.0</td>\n",
       "      <td>0.678049</td>\n",
       "      <td>0.619512</td>\n",
       "    </tr>\n",
       "    <tr>\n",
       "      <th>sub-14</th>\n",
       "      <td>9.0</td>\n",
       "      <td>0.898876</td>\n",
       "      <td>0.457464</td>\n",
       "    </tr>\n",
       "    <tr>\n",
       "      <th>sub-15</th>\n",
       "      <td>7.0</td>\n",
       "      <td>0.566246</td>\n",
       "      <td>0.479495</td>\n",
       "    </tr>\n",
       "    <tr>\n",
       "      <th>sub-16</th>\n",
       "      <td>6.0</td>\n",
       "      <td>0.800338</td>\n",
       "      <td>0.556684</td>\n",
       "    </tr>\n",
       "    <tr>\n",
       "      <th>sub-17</th>\n",
       "      <td>9.0</td>\n",
       "      <td>0.801370</td>\n",
       "      <td>0.732877</td>\n",
       "    </tr>\n",
       "    <tr>\n",
       "      <th>sub-18</th>\n",
       "      <td>7.0</td>\n",
       "      <td>0.849387</td>\n",
       "      <td>0.726795</td>\n",
       "    </tr>\n",
       "  </tbody>\n",
       "</table>\n",
       "</div>"
      ],
      "text/plain": [
       "        dt__max_depth  test score  baseline\n",
       "sub-02            3.0    0.932897  0.535188\n",
       "sub-03            9.0    0.719231  0.328846\n",
       "sub-04            7.0    0.789362  0.419149\n",
       "sub-05            8.0    0.864903  0.597493\n",
       "sub-06            4.0    0.817881  0.455298\n",
       "sub-07            7.0    0.798861  0.590133\n",
       "sub-08            4.0    0.848765  0.435185\n",
       "sub-09            6.0    0.942974  0.443992\n",
       "sub-10            4.0    0.835196  0.413408\n",
       "sub-11            7.0    0.848614  0.413646\n",
       "sub-12            7.0    0.896750  0.634799\n",
       "sub-13            4.0    0.678049  0.619512\n",
       "sub-14            9.0    0.898876  0.457464\n",
       "sub-15            7.0    0.566246  0.479495\n",
       "sub-16            6.0    0.800338  0.556684\n",
       "sub-17            9.0    0.801370  0.732877\n",
       "sub-18            7.0    0.849387  0.726795"
      ]
     },
     "execution_count": 50,
     "metadata": {},
     "output_type": "execute_result"
    }
   ],
   "source": [
    "# Display the results. \n",
    "dt_results"
   ]
  },
  {
   "cell_type": "code",
   "execution_count": 51,
   "metadata": {},
   "outputs": [
    {
     "data": {
      "image/png": "[encoded data removed]",
      "text/plain": [
       "<Figure size 1008x432 with 1 Axes>"
      ]
     },
     "metadata": {
      "needs_background": "light"
     },
     "output_type": "display_data"
    }
   ],
   "source": [
    "# Plot the results. \n",
    "plt.figure(figsize = ((14, 6)))\n",
    "plt.plot(dt_results[['test score']], label = 'test score')\n",
    "plt.plot(dt_results[['baseline']], label = 'baseline')\n",
    "plt.legend();"
   ]
  },
  {
   "cell_type": "markdown",
   "metadata": {},
   "source": [
    "**Result:** Overall, the decision tree model using the fMRI data as predictors performs better than the baseline for our group of subjects. "
   ]
  },
  {
   "cell_type": "markdown",
   "metadata": {},
   "source": [
    "### **3.3 Random forest**\n",
    "\n",
    "In the following cells, we **fine-tune, fit and compute predictions from a random forest model**. "
   ]
  },
  {
   "cell_type": "code",
   "execution_count": 52,
   "metadata": {},
   "outputs": [
    {
     "data": {
      "text/plain": [
       "array([ 5, 10, 15, 20, 25, 30, 35, 40, 45, 50])"
      ]
     },
     "execution_count": 52,
     "metadata": {},
     "output_type": "execute_result"
    }
   ],
   "source": [
    "# Define the set of values to explore, where n is the number of trees. \n",
    "n_values = np.arange(5, 55, 5)\n",
    "n_values"
   ]
  },
  {
   "cell_type": "code",
   "execution_count": 53,
   "metadata": {},
   "outputs": [],
   "source": [
    "# Create pipeline. \n",
    "pipe_rf = Pipeline([\n",
    "    ('scaler', None),\n",
    "    ('rf', RandomForestClassifier(max_depth = None))\n",
    "])\n",
    "\n",
    "# Create cross-validation object. \n",
    "grid_rf = {\n",
    "    'rf__n_estimators': n_values\n",
    "}\n",
    "grid_cv_rf = GridSearchCV(pipe_rf, grid_rf, cv = 5, return_train_score = True, verbose = 0, n_jobs = -1)"
   ]
  },
  {
   "cell_type": "code",
   "execution_count": 54,
   "metadata": {},
   "outputs": [
    {
     "name": "stdout",
     "output_type": "stream",
     "text": [
      "Starting subject sub-02\n",
      "Starting subject sub-03\n",
      "Starting subject sub-04\n",
      "Starting subject sub-05\n",
      "Starting subject sub-06\n",
      "Starting subject sub-07\n",
      "Starting subject sub-08\n",
      "Starting subject sub-09\n",
      "Starting subject sub-10\n",
      "Starting subject sub-11\n",
      "Starting subject sub-12\n",
      "Starting subject sub-13\n",
      "Starting subject sub-14\n",
      "Starting subject sub-15\n",
      "Starting subject sub-16\n",
      "Starting subject sub-17\n",
      "Starting subject sub-18\n"
     ]
    }
   ],
   "source": [
    "# Run the model. \n",
    "rf_results = classification_with_fMRI_predictors(grid_cv_rf, 'rf__n_estimators', formatted_predictors_fMRI_r3)"
   ]
  },
  {
   "cell_type": "code",
   "execution_count": 55,
   "metadata": {},
   "outputs": [
    {
     "data": {
      "text/html": [
       "<div>\n",
       "<style scoped>\n",
       "    .dataframe tbody tr th:only-of-type {\n",
       "        vertical-align: middle;\n",
       "    }\n",
       "\n",
       "    .dataframe tbody tr th {\n",
       "        vertical-align: top;\n",
       "    }\n",
       "\n",
       "    .dataframe thead th {\n",
       "        text-align: right;\n",
       "    }\n",
       "</style>\n",
       "<table border=\"1\" class=\"dataframe\">\n",
       "  <thead>\n",
       "    <tr style=\"text-align: right;\">\n",
       "      <th></th>\n",
       "      <th>rf__n_estimators</th>\n",
       "      <th>test score</th>\n",
       "      <th>baseline</th>\n",
       "    </tr>\n",
       "  </thead>\n",
       "  <tbody>\n",
       "    <tr>\n",
       "      <th>sub-02</th>\n",
       "      <td>30.0</td>\n",
       "      <td>0.947627</td>\n",
       "      <td>0.495908</td>\n",
       "    </tr>\n",
       "    <tr>\n",
       "      <th>sub-03</th>\n",
       "      <td>40.0</td>\n",
       "      <td>0.813462</td>\n",
       "      <td>0.351923</td>\n",
       "    </tr>\n",
       "    <tr>\n",
       "      <th>sub-04</th>\n",
       "      <td>50.0</td>\n",
       "      <td>0.863830</td>\n",
       "      <td>0.417021</td>\n",
       "    </tr>\n",
       "    <tr>\n",
       "      <th>sub-05</th>\n",
       "      <td>40.0</td>\n",
       "      <td>0.930362</td>\n",
       "      <td>0.611421</td>\n",
       "    </tr>\n",
       "    <tr>\n",
       "      <th>sub-06</th>\n",
       "      <td>20.0</td>\n",
       "      <td>0.857616</td>\n",
       "      <td>0.456954</td>\n",
       "    </tr>\n",
       "    <tr>\n",
       "      <th>sub-07</th>\n",
       "      <td>20.0</td>\n",
       "      <td>0.916509</td>\n",
       "      <td>0.567362</td>\n",
       "    </tr>\n",
       "    <tr>\n",
       "      <th>sub-08</th>\n",
       "      <td>45.0</td>\n",
       "      <td>0.887346</td>\n",
       "      <td>0.439815</td>\n",
       "    </tr>\n",
       "    <tr>\n",
       "      <th>sub-09</th>\n",
       "      <td>50.0</td>\n",
       "      <td>0.961303</td>\n",
       "      <td>0.480652</td>\n",
       "    </tr>\n",
       "    <tr>\n",
       "      <th>sub-10</th>\n",
       "      <td>35.0</td>\n",
       "      <td>0.900838</td>\n",
       "      <td>0.388268</td>\n",
       "    </tr>\n",
       "    <tr>\n",
       "      <th>sub-11</th>\n",
       "      <td>30.0</td>\n",
       "      <td>0.895522</td>\n",
       "      <td>0.432836</td>\n",
       "    </tr>\n",
       "    <tr>\n",
       "      <th>sub-12</th>\n",
       "      <td>45.0</td>\n",
       "      <td>0.923518</td>\n",
       "      <td>0.571702</td>\n",
       "    </tr>\n",
       "    <tr>\n",
       "      <th>sub-13</th>\n",
       "      <td>40.0</td>\n",
       "      <td>0.751220</td>\n",
       "      <td>0.619512</td>\n",
       "    </tr>\n",
       "    <tr>\n",
       "      <th>sub-14</th>\n",
       "      <td>50.0</td>\n",
       "      <td>0.919743</td>\n",
       "      <td>0.426966</td>\n",
       "    </tr>\n",
       "    <tr>\n",
       "      <th>sub-15</th>\n",
       "      <td>50.0</td>\n",
       "      <td>0.700315</td>\n",
       "      <td>0.449527</td>\n",
       "    </tr>\n",
       "    <tr>\n",
       "      <th>sub-16</th>\n",
       "      <td>50.0</td>\n",
       "      <td>0.864636</td>\n",
       "      <td>0.526227</td>\n",
       "    </tr>\n",
       "    <tr>\n",
       "      <th>sub-17</th>\n",
       "      <td>50.0</td>\n",
       "      <td>0.828767</td>\n",
       "      <td>0.729452</td>\n",
       "    </tr>\n",
       "    <tr>\n",
       "      <th>sub-18</th>\n",
       "      <td>50.0</td>\n",
       "      <td>0.893170</td>\n",
       "      <td>0.718039</td>\n",
       "    </tr>\n",
       "  </tbody>\n",
       "</table>\n",
       "</div>"
      ],
      "text/plain": [
       "        rf__n_estimators  test score  baseline\n",
       "sub-02              30.0    0.947627  0.495908\n",
       "sub-03              40.0    0.813462  0.351923\n",
       "sub-04              50.0    0.863830  0.417021\n",
       "sub-05              40.0    0.930362  0.611421\n",
       "sub-06              20.0    0.857616  0.456954\n",
       "sub-07              20.0    0.916509  0.567362\n",
       "sub-08              45.0    0.887346  0.439815\n",
       "sub-09              50.0    0.961303  0.480652\n",
       "sub-10              35.0    0.900838  0.388268\n",
       "sub-11              30.0    0.895522  0.432836\n",
       "sub-12              45.0    0.923518  0.571702\n",
       "sub-13              40.0    0.751220  0.619512\n",
       "sub-14              50.0    0.919743  0.426966\n",
       "sub-15              50.0    0.700315  0.449527\n",
       "sub-16              50.0    0.864636  0.526227\n",
       "sub-17              50.0    0.828767  0.729452\n",
       "sub-18              50.0    0.893170  0.718039"
      ]
     },
     "execution_count": 55,
     "metadata": {},
     "output_type": "execute_result"
    }
   ],
   "source": [
    "# Display the results. \n",
    "rf_results"
   ]
  },
  {
   "cell_type": "code",
   "execution_count": 56,
   "metadata": {},
   "outputs": [
    {
     "data": {
      "image/png": "[encoded data removed]",
      "text/plain": [
       "<Figure size 1008x432 with 1 Axes>"
      ]
     },
     "metadata": {
      "needs_background": "light"
     },
     "output_type": "display_data"
    }
   ],
   "source": [
    "# Plot the results. \n",
    "plt.figure(figsize = ((14, 6)))\n",
    "plt.plot(rf_results[['test score']], label = 'test score')\n",
    "plt.plot(rf_results[['baseline']], label = 'baseline')\n",
    "plt.legend();"
   ]
  },
  {
   "cell_type": "markdown",
   "metadata": {},
   "source": [
    "**Result:** Overall, the random forest model using the fMRI data as predictors performs better than the baseline for our group of subjects. "
   ]
  },
  {
   "cell_type": "markdown",
   "metadata": {},
   "source": [
    "### **3.4 Support Vector Machine (SVM)**\n",
    "\n",
    "In the following cells, we **fine-tune, fit and compute predictions from a SVM model**. "
   ]
  },
  {
   "cell_type": "code",
   "execution_count": 57,
   "metadata": {},
   "outputs": [
    {
     "data": {
      "text/plain": [
       "array([1.00000000e-02, 4.64158883e-02, 2.15443469e-01, 1.00000000e+00,\n",
       "       4.64158883e+00, 2.15443469e+01, 1.00000000e+02])"
      ]
     },
     "execution_count": 57,
     "metadata": {},
     "output_type": "execute_result"
    }
   ],
   "source": [
    "# Define the set of values to explore, where c is the C parameter. \n",
    "c_values = np.logspace(-2, 2, num = 7)\n",
    "c_values"
   ]
  },
  {
   "cell_type": "code",
   "execution_count": 58,
   "metadata": {},
   "outputs": [],
   "source": [
    "# Create pipeline. \n",
    "pipe_svm = Pipeline([\n",
    "    ('scaler', StandardScaler()),\n",
    "    ('svm', SVC())\n",
    "])\n",
    "\n",
    "# Create cross-validation object. \n",
    "grid_svm = {\n",
    "    'svm__kernel': ['linear'],\n",
    "    'svm__C': c_values,\n",
    "    'svm__gamma': ['auto']\n",
    "}\n",
    "grid_cv_svm = GridSearchCV(pipe_svm, grid_svm, cv = 5, return_train_score = True, verbose = 0, n_jobs = -1)"
   ]
  },
  {
   "cell_type": "code",
   "execution_count": 59,
   "metadata": {},
   "outputs": [
    {
     "name": "stdout",
     "output_type": "stream",
     "text": [
      "Starting subject sub-02\n",
      "Starting subject sub-03\n",
      "Starting subject sub-04\n",
      "Starting subject sub-05\n",
      "Starting subject sub-06\n",
      "Starting subject sub-07\n",
      "Starting subject sub-08\n",
      "Starting subject sub-09\n",
      "Starting subject sub-10\n",
      "Starting subject sub-11\n",
      "Starting subject sub-12\n",
      "Starting subject sub-13\n",
      "Starting subject sub-14\n",
      "Starting subject sub-15\n",
      "Starting subject sub-16\n",
      "Starting subject sub-17\n",
      "Starting subject sub-18\n"
     ]
    }
   ],
   "source": [
    "# Run the model. \n",
    "svm_results = classification_with_fMRI_predictors(grid_cv_svm, 'svm__C', formatted_predictors_fMRI_r3)"
   ]
  },
  {
   "cell_type": "code",
   "execution_count": 60,
   "metadata": {},
   "outputs": [
    {
     "data": {
      "text/html": [
       "<div>\n",
       "<style scoped>\n",
       "    .dataframe tbody tr th:only-of-type {\n",
       "        vertical-align: middle;\n",
       "    }\n",
       "\n",
       "    .dataframe tbody tr th {\n",
       "        vertical-align: top;\n",
       "    }\n",
       "\n",
       "    .dataframe thead th {\n",
       "        text-align: right;\n",
       "    }\n",
       "</style>\n",
       "<table border=\"1\" class=\"dataframe\">\n",
       "  <thead>\n",
       "    <tr style=\"text-align: right;\">\n",
       "      <th></th>\n",
       "      <th>svm__C</th>\n",
       "      <th>test score</th>\n",
       "      <th>baseline</th>\n",
       "    </tr>\n",
       "  </thead>\n",
       "  <tbody>\n",
       "    <tr>\n",
       "      <th>sub-02</th>\n",
       "      <td>0.046416</td>\n",
       "      <td>0.954173</td>\n",
       "      <td>0.525368</td>\n",
       "    </tr>\n",
       "    <tr>\n",
       "      <th>sub-03</th>\n",
       "      <td>0.010000</td>\n",
       "      <td>0.857692</td>\n",
       "      <td>0.321154</td>\n",
       "    </tr>\n",
       "    <tr>\n",
       "      <th>sub-04</th>\n",
       "      <td>0.046416</td>\n",
       "      <td>0.889362</td>\n",
       "      <td>0.453191</td>\n",
       "    </tr>\n",
       "    <tr>\n",
       "      <th>sub-05</th>\n",
       "      <td>0.046416</td>\n",
       "      <td>0.948468</td>\n",
       "      <td>0.601671</td>\n",
       "    </tr>\n",
       "    <tr>\n",
       "      <th>sub-06</th>\n",
       "      <td>0.046416</td>\n",
       "      <td>0.879139</td>\n",
       "      <td>0.433775</td>\n",
       "    </tr>\n",
       "    <tr>\n",
       "      <th>sub-07</th>\n",
       "      <td>0.046416</td>\n",
       "      <td>0.924099</td>\n",
       "      <td>0.622391</td>\n",
       "    </tr>\n",
       "    <tr>\n",
       "      <th>sub-08</th>\n",
       "      <td>0.010000</td>\n",
       "      <td>0.888889</td>\n",
       "      <td>0.439815</td>\n",
       "    </tr>\n",
       "    <tr>\n",
       "      <th>sub-09</th>\n",
       "      <td>0.046416</td>\n",
       "      <td>0.993890</td>\n",
       "      <td>0.494908</td>\n",
       "    </tr>\n",
       "    <tr>\n",
       "      <th>sub-10</th>\n",
       "      <td>0.046416</td>\n",
       "      <td>0.928771</td>\n",
       "      <td>0.396648</td>\n",
       "    </tr>\n",
       "    <tr>\n",
       "      <th>sub-11</th>\n",
       "      <td>0.010000</td>\n",
       "      <td>0.929638</td>\n",
       "      <td>0.400853</td>\n",
       "    </tr>\n",
       "    <tr>\n",
       "      <th>sub-12</th>\n",
       "      <td>0.046416</td>\n",
       "      <td>0.936902</td>\n",
       "      <td>0.575526</td>\n",
       "    </tr>\n",
       "    <tr>\n",
       "      <th>sub-13</th>\n",
       "      <td>0.010000</td>\n",
       "      <td>0.756098</td>\n",
       "      <td>0.607317</td>\n",
       "    </tr>\n",
       "    <tr>\n",
       "      <th>sub-14</th>\n",
       "      <td>0.215443</td>\n",
       "      <td>0.929374</td>\n",
       "      <td>0.452648</td>\n",
       "    </tr>\n",
       "    <tr>\n",
       "      <th>sub-15</th>\n",
       "      <td>0.010000</td>\n",
       "      <td>0.634069</td>\n",
       "      <td>0.463722</td>\n",
       "    </tr>\n",
       "    <tr>\n",
       "      <th>sub-16</th>\n",
       "      <td>0.046416</td>\n",
       "      <td>0.849408</td>\n",
       "      <td>0.536379</td>\n",
       "    </tr>\n",
       "    <tr>\n",
       "      <th>sub-17</th>\n",
       "      <td>0.010000</td>\n",
       "      <td>0.880137</td>\n",
       "      <td>0.719178</td>\n",
       "    </tr>\n",
       "    <tr>\n",
       "      <th>sub-18</th>\n",
       "      <td>0.010000</td>\n",
       "      <td>0.935201</td>\n",
       "      <td>0.709282</td>\n",
       "    </tr>\n",
       "  </tbody>\n",
       "</table>\n",
       "</div>"
      ],
      "text/plain": [
       "          svm__C  test score  baseline\n",
       "sub-02  0.046416    0.954173  0.525368\n",
       "sub-03  0.010000    0.857692  0.321154\n",
       "sub-04  0.046416    0.889362  0.453191\n",
       "sub-05  0.046416    0.948468  0.601671\n",
       "sub-06  0.046416    0.879139  0.433775\n",
       "sub-07  0.046416    0.924099  0.622391\n",
       "sub-08  0.010000    0.888889  0.439815\n",
       "sub-09  0.046416    0.993890  0.494908\n",
       "sub-10  0.046416    0.928771  0.396648\n",
       "sub-11  0.010000    0.929638  0.400853\n",
       "sub-12  0.046416    0.936902  0.575526\n",
       "sub-13  0.010000    0.756098  0.607317\n",
       "sub-14  0.215443    0.929374  0.452648\n",
       "sub-15  0.010000    0.634069  0.463722\n",
       "sub-16  0.046416    0.849408  0.536379\n",
       "sub-17  0.010000    0.880137  0.719178\n",
       "sub-18  0.010000    0.935201  0.709282"
      ]
     },
     "execution_count": 60,
     "metadata": {},
     "output_type": "execute_result"
    }
   ],
   "source": [
    "# Display the results. \n",
    "svm_results"
   ]
  },
  {
   "cell_type": "code",
   "execution_count": 61,
   "metadata": {},
   "outputs": [
    {
     "data": {
      "image/png": "[encoded data removed]",
      "text/plain": [
       "<Figure size 1008x432 with 1 Axes>"
      ]
     },
     "metadata": {
      "needs_background": "light"
     },
     "output_type": "display_data"
    }
   ],
   "source": [
    "# Plot the results. \n",
    "plt.figure(figsize = ((14, 6)))\n",
    "plt.plot(svm_results[['test score']], label = 'test score')\n",
    "plt.plot(svm_results[['baseline']], label = 'baseline')\n",
    "plt.legend();"
   ]
  },
  {
   "cell_type": "markdown",
   "metadata": {},
   "source": [
    "**Result:** Overall, the SVM model using the fMRI data as predictors performs better than the baseline for our group of subjects. "
   ]
  },
  {
   "cell_type": "markdown",
   "metadata": {},
   "source": [
    "### **3.5 Logistic regression**\n",
    "\n",
    "In the following cells, we **fine-tune, fit and compute predictions from a logistic regression model**. "
   ]
  },
  {
   "cell_type": "code",
   "execution_count": 62,
   "metadata": {},
   "outputs": [
    {
     "data": {
      "text/plain": [
       "array([1.00000000e-05, 3.16227766e-03, 1.00000000e+00, 3.16227766e+02,\n",
       "       1.00000000e+05])"
      ]
     },
     "execution_count": 62,
     "metadata": {},
     "output_type": "execute_result"
    }
   ],
   "source": [
    "# Define the set of values to explore, where c is the C parameter. \n",
    "c_values = np.logspace(-5, 5, num = 5)\n",
    "c_values"
   ]
  },
  {
   "cell_type": "code",
   "execution_count": 63,
   "metadata": {},
   "outputs": [],
   "source": [
    "# Create pipeline. \n",
    "pipe_logreg = Pipeline([\n",
    "    ('scaler', StandardScaler()),\n",
    "    ('logreg', LogisticRegression())\n",
    "])\n",
    "\n",
    "# Create cross-validation object. \n",
    "grid_logreg = {\n",
    "    'logreg__multi_class': ['multinomial'],\n",
    "    'logreg__solver': ['saga'],\n",
    "    'logreg__C': c_values\n",
    "}\n",
    "grid_cv_logreg = GridSearchCV(pipe_logreg, grid_logreg, cv = 5, return_train_score = True, verbose = 0, n_jobs = -1)"
   ]
  },
  {
   "cell_type": "code",
   "execution_count": 64,
   "metadata": {},
   "outputs": [
    {
     "name": "stdout",
     "output_type": "stream",
     "text": [
      "Starting subject sub-02\n",
      "Starting subject sub-03\n",
      "Starting subject sub-04\n",
      "Starting subject sub-05\n",
      "Starting subject sub-06\n",
      "Starting subject sub-07\n",
      "Starting subject sub-08\n",
      "Starting subject sub-09\n",
      "Starting subject sub-10\n",
      "Starting subject sub-11\n",
      "Starting subject sub-12\n",
      "Starting subject sub-13\n",
      "Starting subject sub-14\n",
      "Starting subject sub-15\n",
      "Starting subject sub-16\n",
      "Starting subject sub-17\n",
      "Starting subject sub-18\n"
     ]
    }
   ],
   "source": [
    "# Run the model. \n",
    "logreg_results = classification_with_fMRI_predictors(grid_cv_logreg, 'logreg__C', formatted_predictors_fMRI_r3)"
   ]
  },
  {
   "cell_type": "code",
   "execution_count": 65,
   "metadata": {},
   "outputs": [
    {
     "data": {
      "text/html": [
       "<div>\n",
       "<style scoped>\n",
       "    .dataframe tbody tr th:only-of-type {\n",
       "        vertical-align: middle;\n",
       "    }\n",
       "\n",
       "    .dataframe tbody tr th {\n",
       "        vertical-align: top;\n",
       "    }\n",
       "\n",
       "    .dataframe thead th {\n",
       "        text-align: right;\n",
       "    }\n",
       "</style>\n",
       "<table border=\"1\" class=\"dataframe\">\n",
       "  <thead>\n",
       "    <tr style=\"text-align: right;\">\n",
       "      <th></th>\n",
       "      <th>logreg__C</th>\n",
       "      <th>test score</th>\n",
       "      <th>baseline</th>\n",
       "    </tr>\n",
       "  </thead>\n",
       "  <tbody>\n",
       "    <tr>\n",
       "      <th>sub-02</th>\n",
       "      <td>1.000000</td>\n",
       "      <td>0.942717</td>\n",
       "      <td>0.523732</td>\n",
       "    </tr>\n",
       "    <tr>\n",
       "      <th>sub-03</th>\n",
       "      <td>316.227766</td>\n",
       "      <td>0.857692</td>\n",
       "      <td>0.332692</td>\n",
       "    </tr>\n",
       "    <tr>\n",
       "      <th>sub-04</th>\n",
       "      <td>1.000000</td>\n",
       "      <td>0.885106</td>\n",
       "      <td>0.382979</td>\n",
       "    </tr>\n",
       "    <tr>\n",
       "      <th>sub-05</th>\n",
       "      <td>1.000000</td>\n",
       "      <td>0.948468</td>\n",
       "      <td>0.616992</td>\n",
       "    </tr>\n",
       "    <tr>\n",
       "      <th>sub-06</th>\n",
       "      <td>100000.000000</td>\n",
       "      <td>0.879139</td>\n",
       "      <td>0.458609</td>\n",
       "    </tr>\n",
       "    <tr>\n",
       "      <th>sub-07</th>\n",
       "      <td>1.000000</td>\n",
       "      <td>0.912713</td>\n",
       "      <td>0.601518</td>\n",
       "    </tr>\n",
       "    <tr>\n",
       "      <th>sub-08</th>\n",
       "      <td>1.000000</td>\n",
       "      <td>0.905864</td>\n",
       "      <td>0.435185</td>\n",
       "    </tr>\n",
       "    <tr>\n",
       "      <th>sub-09</th>\n",
       "      <td>1.000000</td>\n",
       "      <td>0.973523</td>\n",
       "      <td>0.468432</td>\n",
       "    </tr>\n",
       "    <tr>\n",
       "      <th>sub-10</th>\n",
       "      <td>1.000000</td>\n",
       "      <td>0.920391</td>\n",
       "      <td>0.400838</td>\n",
       "    </tr>\n",
       "    <tr>\n",
       "      <th>sub-11</th>\n",
       "      <td>316.227766</td>\n",
       "      <td>0.904051</td>\n",
       "      <td>0.402985</td>\n",
       "    </tr>\n",
       "    <tr>\n",
       "      <th>sub-12</th>\n",
       "      <td>1.000000</td>\n",
       "      <td>0.925430</td>\n",
       "      <td>0.602294</td>\n",
       "    </tr>\n",
       "    <tr>\n",
       "      <th>sub-13</th>\n",
       "      <td>1.000000</td>\n",
       "      <td>0.743902</td>\n",
       "      <td>0.612195</td>\n",
       "    </tr>\n",
       "    <tr>\n",
       "      <th>sub-14</th>\n",
       "      <td>100000.000000</td>\n",
       "      <td>0.930979</td>\n",
       "      <td>0.463884</td>\n",
       "    </tr>\n",
       "    <tr>\n",
       "      <th>sub-15</th>\n",
       "      <td>0.003162</td>\n",
       "      <td>0.668770</td>\n",
       "      <td>0.449527</td>\n",
       "    </tr>\n",
       "    <tr>\n",
       "      <th>sub-16</th>\n",
       "      <td>1.000000</td>\n",
       "      <td>0.822335</td>\n",
       "      <td>0.531303</td>\n",
       "    </tr>\n",
       "    <tr>\n",
       "      <th>sub-17</th>\n",
       "      <td>316.227766</td>\n",
       "      <td>0.821918</td>\n",
       "      <td>0.691781</td>\n",
       "    </tr>\n",
       "    <tr>\n",
       "      <th>sub-18</th>\n",
       "      <td>316.227766</td>\n",
       "      <td>0.915937</td>\n",
       "      <td>0.728546</td>\n",
       "    </tr>\n",
       "  </tbody>\n",
       "</table>\n",
       "</div>"
      ],
      "text/plain": [
       "            logreg__C  test score  baseline\n",
       "sub-02       1.000000    0.942717  0.523732\n",
       "sub-03     316.227766    0.857692  0.332692\n",
       "sub-04       1.000000    0.885106  0.382979\n",
       "sub-05       1.000000    0.948468  0.616992\n",
       "sub-06  100000.000000    0.879139  0.458609\n",
       "sub-07       1.000000    0.912713  0.601518\n",
       "sub-08       1.000000    0.905864  0.435185\n",
       "sub-09       1.000000    0.973523  0.468432\n",
       "sub-10       1.000000    0.920391  0.400838\n",
       "sub-11     316.227766    0.904051  0.402985\n",
       "sub-12       1.000000    0.925430  0.602294\n",
       "sub-13       1.000000    0.743902  0.612195\n",
       "sub-14  100000.000000    0.930979  0.463884\n",
       "sub-15       0.003162    0.668770  0.449527\n",
       "sub-16       1.000000    0.822335  0.531303\n",
       "sub-17     316.227766    0.821918  0.691781\n",
       "sub-18     316.227766    0.915937  0.728546"
      ]
     },
     "execution_count": 65,
     "metadata": {},
     "output_type": "execute_result"
    }
   ],
   "source": [
    "# Display the results. \n",
    "logreg_results"
   ]
  },
  {
   "cell_type": "code",
   "execution_count": 66,
   "metadata": {},
   "outputs": [
    {
     "data": {
      "image/png": "[encoded data removed]",
      "text/plain": [
       "<Figure size 1008x432 with 1 Axes>"
      ]
     },
     "metadata": {
      "needs_background": "light"
     },
     "output_type": "display_data"
    }
   ],
   "source": [
    "# Plot the results. \n",
    "plt.figure(figsize = ((14, 6)))\n",
    "plt.plot(logreg_results[['test score']], label = 'test score')\n",
    "plt.plot(logreg_results[['baseline']], label = 'baseline')\n",
    "plt.legend();"
   ]
  },
  {
   "cell_type": "markdown",
   "metadata": {},
   "source": [
    "**Result:** Overall, the logistic regression model using the fMRI data as predictors performs better than the baseline for our group of subjects. "
   ]
  },
  {
   "cell_type": "code",
   "execution_count": 67,
   "metadata": {},
   "outputs": [],
   "source": [
    "# Save the results into a .npz file. \n",
    "np.savez(results_path + 'classification_with_fMRI_predictors.npz', \n",
    "         knn_results = knn_results, \n",
    "         dt_results = dt_results, \n",
    "         rf_results = rf_results, \n",
    "         svm_results = svm_results, \n",
    "         logreg_results = logreg_results)"
   ]
  },
  {
   "cell_type": "code",
   "execution_count": null,
   "metadata": {},
   "outputs": [],
   "source": []
  }
 ],
 "metadata": {
  "kernelspec": {
   "display_name": "Python 3",
   "language": "python",
   "name": "python3"
  },
  "language_info": {
   "codemirror_mode": {
    "name": "ipython",
    "version": 3
   },
   "file_extension": ".py",
   "mimetype": "text/x-python",
   "name": "python",
   "nbconvert_exporter": "python",
   "pygments_lexer": "ipython3",
   "version": "3.6.11"
  }
 },
 "nbformat": 4,
 "nbformat_minor": 4
}
